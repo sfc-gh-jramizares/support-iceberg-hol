{
 "cells": [
  {
   "cell_type": "markdown",
   "id": "727f2103-1cf7-4dc4-ad72-45f586d26322",
   "metadata": {},
   "source": [
    "### ABOUT NOTEBOOKS\n",
    "For the Feature Friday Iceberg labs, we've decided to leverage a Jupyter notebook due to the ability to provide an interative experience blending formatted text (markdown) and executable code in a single document.\n",
    "\n",
    "<u>General usage notes</u>\n",
    "- A notebook is constructed of a set of ordered cells that are either markdown text or code\n",
    "- Code cannot be executed in a markdown cell, but the output of a code cell can be markdown text\n",
    "- If you encounter an error during code execution due to an undefined variable, ensure that the code block that defines the variable (located in a cell above) is executed to set its value\n",
    "  - NOTE: All variables defined in this notebook are in **uppercase**"
   ]
  },
  {
   "cell_type": "markdown",
   "id": "f9e05166-e8ec-4b80-95a3-8d39703491cf",
   "metadata": {},
   "source": [
    "### SRR RESOURCES\n",
    "<u>Training Materials</u>\n",
    "- Engineering\n",
    "  - [Iceberg Tables Training for Support](https://snowflakecomputing.atlassian.net/wiki/spaces/CustomerSupport/pages/3028713756/Iceberg+Tables+Training+for+Support)\n",
    "- Support\n",
    "  - [Intro to Iceberg Tables - Key Concepts training](https://snowflake.zoom.us/rec/share/997cOWJYC6rBIuyzs2P02oD8f28M7dzWj0ygDG9NuIhw3uti2EUqq8_h1m9VUQ8l.dpBvyZ9p_YEQVkOx)\n",
    "    - Passcode: <code>AAPQ&W5$</code>    \n",
    "\n",
    "<u>Runbook(s)</u>\n",
    "  - [Iceberg Support Runbook](https://docs.google.com/document/d/18MjH6n3ypi4VEbs5_wa_Vpxgi0XtVWCLW4_EEe7DBLQ/edit#heading=h.1bu2wjpos1k9)\n",
    "\n",
    "<u>Product documentation</u>\n",
    "  - [Iceberg tables](https://docs.snowflake.com/en/user-guide/tables-iceberg)"
   ]
  },
  {
   "cell_type": "markdown",
   "id": "ccc1de49-c7a1-4171-9b84-f7f98db14a25",
   "metadata": {},
   "source": [
    "### WHAT IS APACHE ICEBERG?\n",
    "\n",
    "[Apache Iceberg](https://iceberg.apache.org/docs/latest/) is an open-source table format specification developed for huge analytic datasets. "
   ]
  },
  {
   "cell_type": "markdown",
   "id": "9cf0d783-56e5-458f-af21-6910188ce4ba",
   "metadata": {
    "tags": []
   },
   "source": [
    "### WHAT ARE ICEBERG TABLES?\n",
    "\n",
    "Iceberg tables are a new table type designed to support the [Apache Iceberg table specification](https://iceberg.apache.org/spec/) to represent a large collection of slowly-changing files on a distributed file system (AWS S3, Azure Blob, Google Cloud Storage) with performance close to that of native Snowflake tables.\n",
    "\n",
    "The architecture of an Apache Iceberg table is defined as three distinct layers:\n",
    "- [Iceberg Catalog](https://iceberg.apache.org/concepts/catalog/#iceberg-catalogs) - Used to manage a collection of tables</li>\n",
    "- [Metadata](https://iceberg.apache.org/spec/#specification) - Used to manage table states in a catalog through a combination of metadata files (JSON), manifest lists (Avro), and manifest files (Avro)\n",
    "- Data - Collection of files that represent the data for all tables in the catalog\n",
    "\n",
    "<div>\n",
    "<img src=\"https://iceberg.apache.org/assets/images/iceberg-metadata.png\" width=\"50%\"/>\n",
    "</div>\n",
    "\n",
    "\n",
    "Snowflake supports Iceberg tables with externally managed catalogs (<strong>unmanaged</strong>) and natively managed catalogs (<strong>managed</strong>).\n",
    "\n",
    "The following catalog types are supported for unmanaged iceberg tables:\n",
    "- [AWS Glue data catalog](https://docs.aws.amazon.com/glue/latest/dg/catalog-and-crawler.html)\n",
    "- Object storage\n",
    "    - Iceberg\n",
    "    - Loose parquet (PrPr)\n",
    "\n",
    "To create an unmanaged Iceberg table, you will need to configure:\n",
    "- [EXTERNAL VOLUME](https://docs.snowflake.com/sql-reference/sql/create-external-volume) - Defines the location(s) for the external catalog, metadata, and data\n",
    "- [CATALOG INTEGRATION](https://docs.snowflake.com/en/sql-reference/sql/create-catalog-integration) - Defines the details of the external catalog"
   ]
  },
  {
   "cell_type": "markdown",
   "id": "de61cfa9-beaa-4331-9051-1b04bba031e9",
   "metadata": {},
   "source": [
    "### ALWAYS START HERE\n",
    "**<u>IMPORTANT</u>**: You **must** execute the cell below to initialize the notebook for code execution"
   ]
  },
  {
   "cell_type": "code",
   "execution_count": null,
   "id": "027030c3-15a3-4deb-badc-48f04468ddc4",
   "metadata": {},
   "outputs": [],
   "source": [
    "import os\n",
    "\n",
    "SNOW_LOCATOR = os.getenv(\"SNOW_LOCATOR\", None)\n",
    "SNOW_USER = os.getenv(\"SNOW_USER\", None)\n",
    "SNOW_PASSWD = os.getenv(\"SNOW_PASSWD\", None)\n",
    "SNOW_DB = os.getenv(\"SNOW_DB\", None)\n",
    "SNOW_ROLE = os.getenv(\"SNOW_ROLE\", None)\n",
    "\n",
    "if (SNOW_LOCATOR is None) or (SNOW_USER is None) or (SNOW_PASSWD is None) or (SNOW_DB is None) or (SNOW_ROLE is None):\n",
    "    raise Exception(\"SNOW_LOCATOR, SNOW_USER, SNOW_PASSWD, SNOW_DB, and SNOW_ROLE must be defined in snowflake.env to continue\")\n",
    "\n",
    "from pyspark.sql import SparkSession\n",
    "spark = SparkSession.builder.appName(\"jupyter\").getOrCreate()\n",
    "\n",
    "%reload_ext sparksql_magic\n",
    "%reload_ext sql\n",
    "%sql snowflake://{SNOW_USER}:{SNOW_PASSWD}@{SNOW_LOCATOR}/{SNOW_DB}?role={SNOW_ROLE}"
   ]
  },
  {
   "cell_type": "markdown",
   "id": "4368a802-c00e-4acd-b8d1-04ddea5a7efd",
   "metadata": {},
   "source": [
    "### Exercise 0: (Optional) Cleanup objects created the previous notebook\n",
    "Execute the cell below to drop the Snowflake objects created in this exercise."
   ]
  },
  {
   "cell_type": "code",
   "execution_count": null,
   "id": "1c14763f-86d8-460c-84e7-f514f2e65594",
   "metadata": {},
   "outputs": [],
   "source": [
    "%%sql\n",
    "\n",
    "use role support_rl;\n",
    "\n",
    "drop database if exists {SNOW_USER}_db;\n",
    "drop database if exists {SNOW_USER}_iceberg_db;\n",
    "drop integration if exists {SNOW_USER}_iceberg_os_catalog_int;\n",
    "drop integration if exists {SNOW_USER}_os_iceberg_cat_int;\n",
    "drop integration if exists {SNOW_USER}_glue_cat_int;\n",
    "drop external volume if exists {SNOW_USER}_ext_vol;"
   ]
  },
  {
   "cell_type": "markdown",
   "id": "4c72bd53-6106-43f0-bee7-a6dff9c9666b",
   "metadata": {},
   "source": [
    "#### Step 1: Create a warehouse and database/schema workspace to use throughout the lab"
   ]
  },
  {
   "cell_type": "code",
   "execution_count": null,
   "id": "a3edbd50-ea93-4ae0-89ec-2a9a7ddc11b5",
   "metadata": {},
   "outputs": [],
   "source": [
    "%%sql\n",
    "\n",
    "use role support_rl;\n",
    "\n",
    "create warehouse if not exists {SNOW_USER}_wh warehouse_size='xsmall';\n",
    "create database if not exists {SNOW_USER}_db;\n",
    "create schema if not exists {SNOW_USER}_db.iceberg;"
   ]
  },
  {
   "cell_type": "markdown",
   "id": "f3ac8983-4d83-4609-8a59-8297c18b5f9a",
   "metadata": {},
   "source": [
    "NOTE: Objects created outside of Snowflake need to be removed manually."
   ]
  },
  {
   "cell_type": "markdown",
   "id": "4c3027a2-c61e-4fe2-a0af-a5c899737296",
   "metadata": {},
   "source": [
    "### Exercise 1: Create an unmanaged Snowflake Iceberg table (type=OBJECT_STORE)\n",
    "<u>Prerequisites</u>\n",
    "1. You must have a personal AWS S3 bucket in <code>us-west-2</code>\n",
    "2. You must have an AWS IAM policy that allows read/write access to your personal AWS S3 bucket\n",
    "3. You must have an AWS IAM role that is assigned the AWS IAM policy (2)"
   ]
  },
  {
   "cell_type": "code",
   "execution_count": null,
   "id": "50a5f782-07bf-4d33-aeca-0d4760443f5f",
   "metadata": {},
   "outputs": [],
   "source": [
    "# Replace <MY_ICEBERG_LAB_S3_BUCKET> with the name of your bucket in us-west-2\n",
    "MY_ICEBERG_LAB_S3_BUCKET='<MY_ICEBERG_LAB_S3_BUCKET>'\n",
    "# Replace <MY_ICEBERG_LAB_S3_IAM_ROLE_ARN> with your IAM AWS S3 access role ARN\n",
    "MY_ICEBERG_LAB_S3_IAM_ROLE_ARN='<MY_ICEBERG_LAB_S3_IAM_ROLE_ARN>'"
   ]
  },
  {
   "cell_type": "markdown",
   "id": "4dbc00de-1612-42ad-b0cd-b3fa42ae2827",
   "metadata": {},
   "source": [
    "#### Step 1: Create an AWS Iceberg table using AWS Athena\n",
    "NOTE: Run the cell below to generate instructions"
   ]
  },
  {
   "cell_type": "code",
   "execution_count": null,
   "id": "99eb7d79-201b-490b-833b-7b59ebf1df72",
   "metadata": {},
   "outputs": [],
   "source": [
    "from IPython.display import Markdown as md\n",
    "\n",
    "SOURCE_TABLE='kterada_db.kt_glue_iceberg_tpcds_sf10tcl_web_sales'\n",
    "TARGET_DB_NAME=SNOW_USER + '_db'\n",
    "TARGET_TABLE_NAME='iceberg_tpcds_sf10tcl_web_sales_t'\n",
    "\n",
    "here = \"\"\"\n",
    "<u>Instructions</u>:\n",
    "1. Login to the AWS CE-Sandbox Console via [SnowBiz Okta](https://snowbiz.okta.com/)\n",
    "2. Navigate to the [AWS Athena query editor](https://us-west-2.console.aws.amazon.com/athena/home?region=us-west-2#/query-editor) in <code>us-west-2</code>\n",
    "3. Execute the following SQL to create an AWS Iceberg table:\n",
    "```\n",
    "create table {db_name}.{table_name} with (table_type='iceberg', location='s3://{my_os_s3_bucket}/iceberg_feature_lab/tpcds_sf10tcl/web_sales/', is_external=false)\n",
    "as (select * from {source_table} limit 1000);\n",
    "```\n",
    "\"\"\".format(my_os_s3_bucket=MY_ICEBERG_LAB_S3_BUCKET, username=SNOW_USER, db_name=TARGET_DB_NAME, table_name=TARGET_TABLE_NAME, source_table=SOURCE_TABLE)\n",
    "\n",
    "md(here)"
   ]
  },
  {
   "cell_type": "markdown",
   "id": "7f14b0f0-2a22-409c-8c1f-fff1d0333f91",
   "metadata": {},
   "source": [
    "#### Step 2: Create an external volume\n",
    "NOTE: This object will be reused in other exercises in the lab.\n",
    "\n",
    "<u>References</u>\n",
    "- Snowflake Documentation:\n",
    "  - [Configure an external volume for Iceberg tables](https://docs.snowflake.com/en/user-guide/tables-iceberg-configure-external-volume)\n",
    "  - [CREATE EXTERNAL VOLUME](https://docs.snowflake.com/en/sql-reference/sql/create-external-volume)"
   ]
  },
  {
   "cell_type": "code",
   "execution_count": null,
   "id": "3482be6b-425b-4113-b5fa-d6c3ab0ca029",
   "metadata": {},
   "outputs": [],
   "source": [
    "%%sql\n",
    "\n",
    "use role support_rl;\n",
    "\n",
    "create or replace external volume {SNOW_USER}_iceberg_lab_ext_vol\n",
    "    storage_locations = (\n",
    "        (\n",
    "            name = 's3_iceberg_lab'\n",
    "            storage_provider = 's3'\n",
    "            storage_base_url = 's3://{MY_ICEBERG_LAB_S3_BUCKET}/'\n",
    "            storage_aws_role_arn = '{MY_ICEBERG_LAB_S3_IAM_ROLE_ARN}'\n",
    "            encryption = (type='aws_sse_s3')\n",
    "        )\n",
    "    )\n",
    ";\n",
    "\n",
    "desc external volume {SNOW_USER}_iceberg_lab_ext_vol;"
   ]
  },
  {
   "cell_type": "markdown",
   "id": "9fa79498-d8dc-4284-bacf-d32379ae1399",
   "metadata": {},
   "source": [
    "NOTE: After creating the external volume, you must update trust relationships in your AWS IAM role based on the `DESCRIBE` output above"
   ]
  },
  {
   "cell_type": "markdown",
   "id": "b0c296f0-ff85-46f7-8977-e63bb71a2d67",
   "metadata": {},
   "source": [
    "#### Step 3: Create a catalog integration\n",
    "NOTE: This object will be reused in other exercises in the lab.\n",
    "\n",
    "<u>References</u>\n",
    "- Snowflake Documentation:\n",
    "  - [Configure a catalog integration for Iceberg tables](https://docs.snowflake.com/en/user-guide/tables-iceberg-configure-catalog-integration)\n",
    "  - [CREATE CATALOG INTEGRATION](https://docs.snowflake.com/en/sql-reference/sql/create-catalog-integration)"
   ]
  },
  {
   "cell_type": "code",
   "execution_count": null,
   "id": "e1c07818-93a6-46b8-9487-6ab55512b0dc",
   "metadata": {},
   "outputs": [],
   "source": [
    "%%sql\n",
    "\n",
    "use role support_rl;\n",
    "\n",
    "create or replace catalog integration {SNOW_USER}_os_cat_int\n",
    "    catalog_source = object_store\n",
    "    table_format = iceberg\n",
    "    enabled = true\n",
    ";\n",
    "\n",
    "desc integration {SNOW_USER}_os_cat_int;"
   ]
  },
  {
   "cell_type": "markdown",
   "id": "151af502-f070-409d-b3b2-332f1d9151f5",
   "metadata": {},
   "source": [
    "#### Step 4: Create the Snowflake Iceberg table (unmanaged)\n",
    "<u>References</u>\n",
    "- Snowflake Documentation:\n",
    "  - [Create an Iceberg table](https://docs.snowflake.com/user-guide/tables-iceberg-create)\n",
    "  - [CREATE ICEBERG TABLE](https://docs.snowflake.com/en/sql-reference/sql/create-iceberg-table)"
   ]
  },
  {
   "cell_type": "code",
   "execution_count": null,
   "id": "c009f5bb-87ae-4179-bf25-2bd28a7ff968",
   "metadata": {},
   "outputs": [],
   "source": [
    "# Replace <MY_OS_ICEBERG_TABLE_METADATA_FILE> with the name of AWS Iceberg table metadata file in the \n",
    "# iceberg_feature_lab/tpcds_sf10tcl/web_sales/ path from your us-west-2 bucket\n",
    "MY_OS_ICEBERG_TABLE_METADATA_FILE='<MY_OS_ICEBERG_TABLE_METADATA_FILE>'"
   ]
  },
  {
   "cell_type": "code",
   "execution_count": null,
   "id": "08455d9f-db30-4320-aa53-c5c80a2234c9",
   "metadata": {},
   "outputs": [],
   "source": [
    "%%sql\n",
    "\n",
    "use role support_rl;\n",
    "use warehouse {SNOW_USER}_wh;\n",
    "use {SNOW_USER}_db.iceberg;\n",
    "\n",
    "create or replace iceberg table {SNOW_USER}_db.iceberg.{SNOW_USER}_unmanaged_os_web_sales_t\n",
    "    external_volume = {SNOW_USER}_iceberg_lab_ext_vol\n",
    "    catalog = {SNOW_USER}_os_cat_int\n",
    "    metadata_file_path = 'iceberg_feature_lab/tpcds_sf10tcl/web_sales/metadata/{MY_OS_ICEBERG_TABLE_METADATA_FILE}'\n",
    ";"
   ]
  },
  {
   "cell_type": "markdown",
   "id": "e51769a7-b93c-4c33-a3c1-0a82531cca6d",
   "metadata": {},
   "source": [
    "#### Step 5: Verify the Snowflake Iceberg table contains data"
   ]
  },
  {
   "cell_type": "code",
   "execution_count": null,
   "id": "a5610eaa-fb50-4fe1-ae45-155be5b790e9",
   "metadata": {},
   "outputs": [],
   "source": [
    "%%sql\n",
    "\n",
    "use role support_rl;\n",
    "use warehouse {SNOW_USER}_wh;\n",
    "use {SNOW_USER}_db.iceberg;\n",
    "\n",
    "select\n",
    "    count(*)\n",
    "from {SNOW_USER}_db.iceberg.{SNOW_USER}_unmanaged_os_web_sales_t\n",
    "where true\n",
    ";"
   ]
  },
  {
   "cell_type": "code",
   "execution_count": null,
   "id": "5f91728c-da96-4cce-958d-68039eb02e07",
   "metadata": {},
   "outputs": [],
   "source": [
    "%%sql\n",
    "\n",
    "use role support_rl;\n",
    "use warehouse {SNOW_USER}_wh;\n",
    "use {SNOW_USER}_db.iceberg;\n",
    "\n",
    "select\n",
    "    *\n",
    "from {SNOW_USER}_db.iceberg.{SNOW_USER}_unmanaged_os_web_sales_t\n",
    "where true\n",
    "limit 25\n",
    ";"
   ]
  },
  {
   "cell_type": "markdown",
   "id": "e88262c9-9387-45b9-97d8-25f4eca22e6a",
   "metadata": {},
   "source": [
    "#### Step 6: Update the AWS Iceberg table\n",
    "NOTE: Run the cell below to generate instructions"
   ]
  },
  {
   "cell_type": "code",
   "execution_count": null,
   "id": "30a6a6ba-93d9-4b7b-b287-7bdda7b6fa67",
   "metadata": {
    "scrolled": true
   },
   "outputs": [],
   "source": [
    "from IPython.display import Markdown as md\n",
    "\n",
    "here = \"\"\"\n",
    "<u>Instructions</u>\n",
    "1. In the AWS CE-Sandbox Console, navigate to the [AWS Athena query editor](https://us-west-2.console.aws.amazon.com/athena/home?region=us-west-2#/query-editor) in <code>us-west-2</code>\n",
    "2. Execute the following SQL to insert additional records into the AWS Iceberg table:\n",
    "```\n",
    "insert into {db_name}.{table_name} (select * from {source_table} except select * from {db_name}.{table_name} limit 1000);\n",
    "```\n",
    "\"\"\".format(db_name=TARGET_DB_NAME, table_name=TARGET_TABLE_NAME, source_table=SOURCE_TABLE)\n",
    "\n",
    "md(here)"
   ]
  },
  {
   "cell_type": "markdown",
   "id": "a3714860-37e7-4d4a-a2d8-6712af65e6ad",
   "metadata": {},
   "source": [
    "#### Step 7: Manually refresh the unmanaged Snowflake Iceberg table\n",
    "<u>References</u>\n",
    "- Snowflake Documentation\n",
    "  - [Manage an Iceberg table](https://docs.snowflake.com/user-guide/tables-iceberg-manage)"
   ]
  },
  {
   "cell_type": "code",
   "execution_count": null,
   "id": "0c2d69cd-1603-4ed4-9270-3c652c959e0e",
   "metadata": {},
   "outputs": [],
   "source": [
    "# Replace <MY_LATEST_OS_ICEBERG_TABLE_METADATA_FILE> with the name of latest AWS Iceberg table metadata file in the \n",
    "# iceberg_feature_lab/tpcds_sf10tcl/web_sales/ path from your us-west-2 bucket (HINT: Filter for the most current timestamp)\n",
    "MY_LATEST_OS_ICEBERG_TABLE_METADATA_FILE='<MY_LATEST_OS_ICEBERG_TABLE_METADATA_FILE>'"
   ]
  },
  {
   "cell_type": "code",
   "execution_count": null,
   "id": "236ca739-2a06-4599-9bb3-953d69d78b29",
   "metadata": {},
   "outputs": [],
   "source": [
    "%%sql\n",
    "\n",
    "use role support_rl;\n",
    "use {SNOW_USER}_db.iceberg;\n",
    "\n",
    "alter iceberg table {SNOW_USER}_db.iceberg.{SNOW_USER}_unmanaged_os_web_sales_t refresh 'iceberg_feature_lab/tpcds_sf10tcl/web_sales/metadata/{MY_LATEST_OS_ICEBERG_TABLE_METADATA_FILE}';"
   ]
  },
  {
   "cell_type": "markdown",
   "id": "54c61abf-31c6-4917-8968-0a4dafe3f4e3",
   "metadata": {},
   "source": [
    "#### Step 8: Verify the Snowflake Iceberg table contains more data"
   ]
  },
  {
   "cell_type": "code",
   "execution_count": null,
   "id": "4000abe0-659d-458c-9864-9d52dff6fc4c",
   "metadata": {},
   "outputs": [],
   "source": [
    "%%sql\n",
    "\n",
    "use role support_rl;\n",
    "use warehouse {SNOW_USER}_wh;\n",
    "use {SNOW_USER}_db.iceberg;\n",
    "\n",
    "select\n",
    "    count(*)\n",
    "from {SNOW_USER}_db.iceberg.{SNOW_USER}_unmanaged_os_web_sales_t\n",
    "where true\n",
    ";"
   ]
  },
  {
   "cell_type": "code",
   "execution_count": null,
   "id": "961b9181-f004-4d4f-8daf-6632d572740d",
   "metadata": {},
   "outputs": [],
   "source": [
    "%%sql\n",
    "\n",
    "use role support_rl;\n",
    "use warehouse {SNOW_USER}_wh;\n",
    "use {SNOW_USER}_db.iceberg;\n",
    "\n",
    "select\n",
    "    *\n",
    "from {SNOW_USER}_db.iceberg.{SNOW_USER}_unmanaged_os_web_sales_t\n",
    "where true\n",
    "limit 25\n",
    ";"
   ]
  },
  {
   "cell_type": "markdown",
   "id": "7d642904-933c-4f1e-ab9e-bd35b86f4c34",
   "metadata": {},
   "source": [
    "#### Step 9: Inspect the Snowflake Iceberg table DDL"
   ]
  },
  {
   "cell_type": "code",
   "execution_count": null,
   "id": "78733538-4aaa-4fe8-b27c-2acbacf3df1e",
   "metadata": {},
   "outputs": [],
   "source": [
    "%%sql\n",
    "\n",
    "use role support_rl;\n",
    "use {SNOW_USER}_db.iceberg;\n",
    "\n",
    "select get_ddl('table', '{SNOW_USER}_db.iceberg.{SNOW_USER}_unmanaged_os_web_sales_t');"
   ]
  },
  {
   "cell_type": "markdown",
   "id": "eaac3ff1-5834-43b2-8e83-b826ca00cb2b",
   "metadata": {},
   "source": [
    "#### Step 10: Execute DDL on the unmanaged Snowflake Iceberg table"
   ]
  },
  {
   "cell_type": "code",
   "execution_count": null,
   "id": "11ea2a94-7359-4e2d-b16c-61312bc8cc91",
   "metadata": {},
   "outputs": [],
   "source": [
    "%%sql\n",
    "\n",
    "use role support_rl;\n",
    "use warehouse {SNOW_USER}_wh;\n",
    "use {SNOW_USER}_db.iceberg;\n",
    "\n",
    "truncate table {SNOW_USER}_db.iceberg.{SNOW_USER}_unmanaged_os_web_sales_t;"
   ]
  },
  {
   "cell_type": "markdown",
   "id": "c5ffa75c-a304-4d17-bfc8-e16e4ae6dd0f",
   "metadata": {},
   "source": [
    "#### Step 11: Inspect SYSTEM\\$GET_ICEBERG_TABLE_INFORMATION details (unmanaged)\n",
    "<u>References</u>\n",
    "- Snowflake Documentation:\n",
    "  - [SYSTEM$GET_ICEBERG_TABLE_INFORMATION](https://docs.snowflake.com/en/sql-reference/functions/system_get_iceberg_table_information)"
   ]
  },
  {
   "cell_type": "code",
   "execution_count": null,
   "id": "cf913861-e966-4950-adfd-190ddc393317",
   "metadata": {},
   "outputs": [],
   "source": [
    "%%sql\n",
    "\n",
    "use role support_rl;\n",
    "use warehouse {SNOW_USER}_wh;\n",
    "use {SNOW_USER}_db.iceberg;\n",
    "\n",
    "select system$get_iceberg_table_information('{SNOW_USER}_db.iceberg.{SNOW_USER}_unmanaged_os_web_sales_t');"
   ]
  },
  {
   "cell_type": "markdown",
   "id": "da7a218d-cf5f-439a-8e4c-f05af1b2ada6",
   "metadata": {},
   "source": [
    "#### Step 12: Convert the Snowflake Iceberg table from unmanaged to managed\n",
    "<u>References</u>\n",
    "- Snowflake Documentation:\n",
    "  - [Convert an Iceberg table](https://docs.snowflake.com/en/user-guide/tables-iceberg-conversion)\n",
    "  - [ALTER ICEBERG TABLE](https://docs.snowflake.com/en/sql-reference/sql/alter-iceberg-table)"
   ]
  },
  {
   "cell_type": "code",
   "execution_count": null,
   "id": "fd46d771-4880-402e-9f0d-7002ea6788cc",
   "metadata": {},
   "outputs": [],
   "source": [
    "%%sql\n",
    "\n",
    "use role support_rl;\n",
    "use {SNOW_USER}_db.iceberg;\n",
    "\n",
    "alter iceberg table {SNOW_USER}_db.iceberg.{SNOW_USER}_unmanaged_os_web_sales_t convert to managed base_location='snowflake/web_sales_t';"
   ]
  },
  {
   "cell_type": "markdown",
   "id": "9f97ed96-2d91-49a4-af25-dfef73d55850",
   "metadata": {},
   "source": [
    "#### Step 13: Rename the Snowflake Iceberg table\n",
    "<u>References</u>\n",
    "- Snowflake Documentation:\n",
    "  - [ALTER ICEBERG TABLE](https://docs.snowflake.com/en/sql-reference/sql/alter-iceberg-table)"
   ]
  },
  {
   "cell_type": "code",
   "execution_count": null,
   "id": "277df20b-73d8-4a1b-b452-9b25ae092274",
   "metadata": {},
   "outputs": [],
   "source": [
    "%%sql\n",
    "\n",
    "use role support_rl;\n",
    "use {SNOW_USER}_db.iceberg;\n",
    "\n",
    "alter iceberg table {SNOW_USER}_db.iceberg.{SNOW_USER}_unmanaged_os_web_sales_t rename to {SNOW_USER}_managed_os_web_sales_t;"
   ]
  },
  {
   "cell_type": "markdown",
   "id": "bf145e8e-e78a-4c62-b389-2a72e9b1c06e",
   "metadata": {},
   "source": [
    "#### Step 14: Inspect the Snowflake Iceberg table DDL"
   ]
  },
  {
   "cell_type": "code",
   "execution_count": null,
   "id": "a068a1d5-7f95-4807-a498-27a8b38e6a7d",
   "metadata": {},
   "outputs": [],
   "source": [
    "%%sql\n",
    "\n",
    "use role support_rl;\n",
    "use warehouse {SNOW_USER}_wh;\n",
    "use {SNOW_USER}_db.iceberg;\n",
    "\n",
    "select get_ddl('table', '{SNOW_USER}_db.iceberg.{SNOW_USER}_managed_os_web_sales_t'); "
   ]
  },
  {
   "cell_type": "markdown",
   "id": "268f950d-1091-4314-8a4d-5ec63829a348",
   "metadata": {},
   "source": [
    "#### Step 15: Execute DDL on the managed Snowflake Iceberg table"
   ]
  },
  {
   "cell_type": "code",
   "execution_count": null,
   "id": "33e6c659-52d4-4c4d-8140-56b01252d7d3",
   "metadata": {},
   "outputs": [],
   "source": [
    "%%sql\n",
    "\n",
    "use role support_rl;\n",
    "use warehouse {SNOW_USER}_wh;\n",
    "use {SNOW_USER}_db.iceberg;\n",
    "\n",
    "truncate table {SNOW_USER}_db.iceberg.{SNOW_USER}_managed_os_web_sales_t;"
   ]
  },
  {
   "cell_type": "markdown",
   "id": "e5b68cc9-a148-4789-b898-15ef28506a2b",
   "metadata": {},
   "source": [
    "#### Step 16: Inspect SYSTEM\\$GET_ICEBERG_TABLE_INFORMATION details (managed)\n",
    "<u>References</u>\n",
    "- Snowflake Documentation:\n",
    "  - [SYSTEM$GET_ICEBERG_TABLE_INFORMATION](https://docs.snowflake.com/en/sql-reference/functions/system_get_iceberg_table_information)"
   ]
  },
  {
   "cell_type": "code",
   "execution_count": null,
   "id": "3d8dc135-c44b-4d60-84af-ff563411cb0f",
   "metadata": {},
   "outputs": [],
   "source": [
    "%%sql\n",
    "\n",
    "use role support_rl;\n",
    "use warehouse {SNOW_USER}_wh;\n",
    "use {SNOW_USER}_db.iceberg;\n",
    "\n",
    "select system$get_iceberg_table_information('{SNOW_USER}_db.iceberg.{SNOW_USER}_managed_os_web_sales_t');"
   ]
  },
  {
   "cell_type": "markdown",
   "id": "898871d1-e3f5-4302-9410-eac8742dbf66",
   "metadata": {},
   "source": [
    "#### Step 17: (Optional) Cleanup\n",
    "Execute the cell below to drop the Snowflake objects created in this exercise."
   ]
  },
  {
   "cell_type": "code",
   "execution_count": null,
   "id": "10ed1c3d-6675-4401-86b0-9da5d995b4ff",
   "metadata": {},
   "outputs": [],
   "source": [
    "%%sql\n",
    "\n",
    "use role support_rl;\n",
    "use {SNOW_USER}_db.iceberg;\n",
    "\n",
    "drop iceberg table if exists {SNOW_USER}_db.iceberg.{SNOW_USER}_managed_os_web_sales_t;\n",
    "/* \n",
    "uncomment the lines after all labs are completed\n",
    "*/\n",
    "--drop integration if exists {SNOW_USER}_os_cat_int;\n",
    "--drop external volume if exists {SNOW_USER}_iceberg_lab_ext_vol;"
   ]
  },
  {
   "cell_type": "markdown",
   "id": "eb1de835-46cf-4172-98c4-a8e17492fc6c",
   "metadata": {},
   "source": [
    "NOTE: Objects created outside of Snowflake need to be removed manually."
   ]
  },
  {
   "cell_type": "markdown",
   "id": "7e8da455-2700-4854-870e-5a4889eeeefe",
   "metadata": {},
   "source": [
    "### Exercise 2: Create an unmanaged Snowflake Iceberg Table (type=GLUE)\n",
    "NOTE: This exercise will use a pre-existing AWS Iceberg table created by AWS Glue"
   ]
  },
  {
   "cell_type": "markdown",
   "id": "805ecfcb-e8e2-4ac6-811c-ccb41f490554",
   "metadata": {},
   "source": [
    "#### Step 1: Create an IAM role with AWS S3 permissions to the pre-existing AWS Iceberg table\n",
    "NOTE: Run the cell below to generate instructions"
   ]
  },
  {
   "cell_type": "code",
   "execution_count": null,
   "id": "7c4630a9-580d-4f10-9cb3-22fc82349018",
   "metadata": {},
   "outputs": [],
   "source": [
    "from IPython.display import Markdown as md\n",
    "\n",
    "here = \"\"\"\n",
    "<u>Instructions</u>\n",
    "1. In the AWS CE-Sandbox Console, navigate to **Identity and Access Management (IAM)** > [**Roles**](https://us-east-1.console.aws.amazon.com/iam/home#/roles)\n",
    "2. Click the **Create role** button\n",
    "3. On the **Specify permissions page**, click the **JSON** button to toggle to the JSON editor\n",
    "4. Select **Trusted entity type** > **AWS account**\n",
    "5. Click the **Next** button\n",
    "6. On the **Add permissions** page, lookup and click the checkbox for **kterada_custom_s3_policy**\n",
    "7. Click the **Next** button\n",
    "8. Name the role **{username}_iceberg_lab_s3_role**\n",
    "9. Click the **Create role** button\n",
    "10. Replace `<MY_GLUE_IAM_ROLE_ARN>` with the IAM role ARN in the cell below and execute\n",
    "\"\"\".format(username=SNOW_USER, db_name=TARGET_DB_NAME, table_name=TARGET_TABLE_NAME, source_table=SOURCE_TABLE)\n",
    "\n",
    "md(here)"
   ]
  },
  {
   "cell_type": "code",
   "execution_count": null,
   "id": "67acd63c-3943-43e9-bcc3-3a6f8e4e063e",
   "metadata": {},
   "outputs": [],
   "source": [
    "# Replace <MY_GLUE_IAM_ROLE_ARN> with your IAM AWS Glue access role ARN\n",
    "MY_GLUE_IAM_ROLE_ARN='<MY_GLUE_IAM_ROLE_ARN>'"
   ]
  },
  {
   "cell_type": "markdown",
   "id": "19963713-e945-48b3-989a-6378f5d70b05",
   "metadata": {},
   "source": [
    "#### Step 2: Create an external volume\n",
    "<u>References</u>\n",
    "- Snowflake Documentation:\n",
    "  - [Configure an external volume for Iceberg tables](https://docs.snowflake.com/en/user-guide/tables-iceberg-configure-external-volume)\n",
    "  - [CREATE EXTERNAL VOLUME](https://docs.snowflake.com/en/sql-reference/sql/create-external-volume)"
   ]
  },
  {
   "cell_type": "code",
   "execution_count": null,
   "id": "1b23fc82-f247-4fb3-b606-0db5b2976d31",
   "metadata": {},
   "outputs": [],
   "source": [
    "%%sql\n",
    "\n",
    "use role support_rl;\n",
    "\n",
    "create or replace external volume {SNOW_USER}_glue_ext_vol\n",
    "    storage_locations = (\n",
    "        (\n",
    "            name = 's3_iceberg_lab_glue'\n",
    "            storage_provider = 's3'\n",
    "            storage_base_url = 's3://kt-s3-us-west-2/'\n",
    "            storage_aws_role_arn = '{MY_GLUE_IAM_ROLE_ARN}'\n",
    "            encryption = (type='aws_sse_s3')\n",
    "        )\n",
    "    )\n",
    ";\n",
    "\n",
    "desc external volume {SNOW_USER}_glue_ext_vol;"
   ]
  },
  {
   "cell_type": "markdown",
   "id": "06cb8518-e3db-4415-a8e6-2c207d240fc2",
   "metadata": {},
   "source": [
    "NOTE: After creating the external volume, you must update trust relationships in your AWS IAM role based on the `DESCRIBE` output above"
   ]
  },
  {
   "cell_type": "markdown",
   "id": "b9552745-63fa-47ac-8141-5ff081bed01e",
   "metadata": {},
   "source": [
    "#### Step 3: Create an IAM role with AWS Glue service permissions\n",
    "NOTE: Run the cell below to generate instructions"
   ]
  },
  {
   "cell_type": "code",
   "execution_count": null,
   "id": "ca286b98-5cd7-4354-becd-927d78fd922d",
   "metadata": {},
   "outputs": [],
   "source": [
    "from IPython.display import Markdown as md\n",
    "\n",
    "here = \"\"\"\n",
    "<u>Instructions</u>:\n",
    "1. In the AWS CE-Sandbox Console, navigate to **Identity and Access Management (IAM)** > [**Roles**](https://us-east-1.console.aws.amazon.com/iam/home#/roles)\n",
    "2. Click the **Create role** button\n",
    "3. On the **Specify permissions page**, click the **JSON** button to toggle to the JSON editor\n",
    "4. Select **Trusted entity type** > **AWS account**\n",
    "5. Click the **Next** button\n",
    "6. On the **Add permissions** page, lookup and click the checkbox for **kterada_custom_glue_policy**\n",
    "7. Click the **Next** button\n",
    "8. Name the role `{username}_glue_role`\n",
    "9. Click the **Create role** button\n",
    "10. Replace `<MY_GLUE_SERVICE_IAM_ROLE_ARN>` with the IAM role ARN in the cell below and execute\n",
    "\"\"\".format(username=SNOW_USER, db_name=TARGET_DB_NAME, table_name=TARGET_TABLE_NAME, source_table=SOURCE_TABLE)\n",
    "\n",
    "md(here)"
   ]
  },
  {
   "cell_type": "code",
   "execution_count": null,
   "id": "d5172196-c525-43e2-a3b5-7a45e4f29853",
   "metadata": {},
   "outputs": [],
   "source": [
    "# Replace <MY_GLUE_SERVICE_IAM_ROLE_ARN> with your IAM AWS Glue service access role ARN\n",
    "MY_GLUE_SERVICE_IAM_ROLE_ARN='<MY_GLUE_SERVICE_IAM_ROLE_ARN>'"
   ]
  },
  {
   "cell_type": "markdown",
   "id": "903b8613-87a3-47cd-965b-ed877dd4aa19",
   "metadata": {},
   "source": [
    "#### Step 4: Create a catalog integration\n",
    "<u>References</u>\n",
    "- Snowflake Documentation:\n",
    "  - [Configure a catalog integration for Iceberg tables](https://docs.snowflake.com/en/user-guide/tables-iceberg-configure-catalog-integration)\n",
    "  - [CREATE CATALOG INTEGRATION](https://docs.snowflake.com/en/sql-reference/sql/create-catalog-integration)"
   ]
  },
  {
   "cell_type": "code",
   "execution_count": null,
   "id": "ed7165df-41b9-4da6-8ee0-3368344817b2",
   "metadata": {},
   "outputs": [],
   "source": [
    "%%sql\n",
    "\n",
    "use role support_rl;\n",
    "\n",
    "create or replace catalog integration {SNOW_USER}_glue_cat_int\n",
    "    catalog_source = glue\n",
    "    catalog_namespace = 'kterada_db'\n",
    "    table_format = iceberg\n",
    "    glue_aws_role_arn = '{MY_GLUE_SERVICE_IAM_ROLE_ARN}'\n",
    "    glue_catalog_id = '094271313368'\n",
    "    glue_region = 'us-west-2'\n",
    "    enabled = true\n",
    ";\n",
    "\n",
    "desc integration {SNOW_USER}_glue_cat_int;"
   ]
  },
  {
   "cell_type": "markdown",
   "id": "9d4e6346-1af4-4430-ba96-89a34eef2759",
   "metadata": {},
   "source": [
    "NOTE: After creating the catalog integration, you must update trust relationships in your AWS IAM role based on the `DESCRIBE` output above"
   ]
  },
  {
   "cell_type": "markdown",
   "id": "e4fa01b5-83e3-419b-8f39-ec24a67cf8db",
   "metadata": {},
   "source": [
    "#### Step 5: Create the Snowflake Iceberg table (unmanaged)\n",
    "<u>References</u>\n",
    "- Snowflake Documentation:\n",
    "  - [Create an Iceberg table](https://docs.snowflake.com/user-guide/tables-iceberg-create)\n",
    "  - [CREATE ICEBERG TABLE](https://docs.snowflake.com/en/sql-reference/sql/create-iceberg-table)"
   ]
  },
  {
   "cell_type": "code",
   "execution_count": null,
   "id": "adaee703-5055-4f60-af08-4f1faec9a150",
   "metadata": {},
   "outputs": [],
   "source": [
    "%%sql\n",
    "\n",
    "use role support_rl;\n",
    "\n",
    "create or replace iceberg table {SNOW_USER}_db.iceberg.{SNOW_USER}_unmanaged_glue_web_sales_t\n",
    "    external_volume = {SNOW_USER}_glue_ext_vol\n",
    "    catalog = {SNOW_USER}_glue_cat_int\n",
    "    catalog_namespace = 'kterada_db'\n",
    "    catalog_table_name = 'kt_glue_iceberg_tpcds_sf10tcl_web_sales'\n",
    ";"
   ]
  },
  {
   "cell_type": "code",
   "execution_count": null,
   "id": "bbd606e3-2287-494e-ba07-b26194207556",
   "metadata": {},
   "outputs": [],
   "source": [
    "%%sql\n",
    "\n",
    "use role support_rl;\n",
    "use warehouse {SNOW_USER}_wh;\n",
    "use {SNOW_USER}_db.iceberg;\n",
    "\n",
    "select\n",
    "    count(*)\n",
    "from {SNOW_USER}_db.iceberg.{SNOW_USER}_unmanaged_glue_web_sales_t\n",
    "where true\n",
    ";"
   ]
  },
  {
   "cell_type": "code",
   "execution_count": null,
   "id": "2a1e582a-6365-4749-a6f3-ce70b493dae3",
   "metadata": {},
   "outputs": [],
   "source": [
    "%%sql\n",
    "\n",
    "use role support_rl;\n",
    "use warehouse {SNOW_USER}_wh;\n",
    "use {SNOW_USER}_db.iceberg;\n",
    "\n",
    "select\n",
    "    *\n",
    "from {SNOW_USER}_db.iceberg.{SNOW_USER}_unmanaged_glue_web_sales_t\n",
    "where true\n",
    "limit 25\n",
    ";"
   ]
  },
  {
   "cell_type": "markdown",
   "id": "1d91a05e-2de0-4439-ae86-29225f3003c8",
   "metadata": {},
   "source": [
    "#### Step 6: Inspect the Snowflake Iceberg table DDL"
   ]
  },
  {
   "cell_type": "code",
   "execution_count": null,
   "id": "4ae50190-ddd0-4c9a-a068-79871b934d8a",
   "metadata": {},
   "outputs": [],
   "source": [
    "%%sql\n",
    "\n",
    "use role support_rl;\n",
    "use {SNOW_USER}_db.iceberg;\n",
    "\n",
    "select get_ddl('table', '{SNOW_USER}_db.iceberg.{SNOW_USER}_unmanaged_glue_web_sales_t'); "
   ]
  },
  {
   "cell_type": "markdown",
   "id": "1781b858-939a-47ca-8da4-54eda93582fa",
   "metadata": {},
   "source": [
    "#### Step 7: Inspect SYSTEM\\$GET_ICEBERG_TABLE_INFORMATION details\n",
    "<u>References</u>\n",
    "- Snowflake Documentation:\n",
    "  - [SYSTEM$GET_ICEBERG_TABLE_INFORMATION](https://docs.snowflake.com/en/sql-reference/functions/system_get_iceberg_table_information)"
   ]
  },
  {
   "cell_type": "code",
   "execution_count": null,
   "id": "142a2ddd-ad4a-4776-9bbe-b7ba05ff424f",
   "metadata": {},
   "outputs": [],
   "source": [
    "%%sql\n",
    "\n",
    "use role support_rl;\n",
    "use warehouse {SNOW_USER}_wh;\n",
    "use {SNOW_USER}_db.iceberg;\n",
    "\n",
    "select system$get_iceberg_table_information('{SNOW_USER}_db.iceberg.{SNOW_USER}_unmanaged_glue_web_sales_t');"
   ]
  },
  {
   "cell_type": "markdown",
   "id": "b83ee3f3-2b1c-419c-ba90-753678856137",
   "metadata": {},
   "source": [
    "#### Step 8: (Optional) Cleanup\n",
    "Execute the cell below to drop the Snowflake objects created in this exercise."
   ]
  },
  {
   "cell_type": "code",
   "execution_count": null,
   "id": "af4eb1e9-489d-4df3-a558-a4942d3c48f7",
   "metadata": {},
   "outputs": [],
   "source": [
    "%%sql\n",
    "\n",
    "use role support_rl;\n",
    "use {SNOW_USER}_db.iceberg;\n",
    "\n",
    "drop iceberg table if exists {SNOW_USER}_db.iceberg.{SNOW_USER}_unmanaged_glue_web_sales_t;\n",
    "drop catalog integration if exists {SNOW_USER}_glue_cat_int;\n",
    "drop external volume if exists {SNOW_USER}_glue_ext_vol;"
   ]
  },
  {
   "cell_type": "markdown",
   "id": "3fbd57b4-5231-426f-9037-3276fabd0a24",
   "metadata": {},
   "source": [
    "NOTE: Objects created outside of Snowflake need to be removed manually."
   ]
  },
  {
   "cell_type": "markdown",
   "id": "58e7cb1b-be6b-4926-a6a0-5f185480e828",
   "metadata": {},
   "source": [
    "### Exercise 3: Create an unmanaged parquet direct (loose parquet) Snowflake Iceberg table"
   ]
  },
  {
   "cell_type": "markdown",
   "id": "ac340abc-15b9-443f-a983-ecc715a5e752",
   "metadata": {},
   "source": [
    "#### Step 1: Upload parquet source data\n",
    "NOTE: Run the cell below to generate instructions"
   ]
  },
  {
   "cell_type": "code",
   "execution_count": null,
   "id": "af930151-f6e4-4d27-92f8-2d5df1b3dd75",
   "metadata": {},
   "outputs": [],
   "source": [
    "from IPython.display import Markdown as md\n",
    "\n",
    "here = \"\"\"\n",
    "<u>Instructions</u>\n",
    "1. In the AWS CE-Sandbox Console, navigate to **S3** > [**Buckets**](https://s3.console.aws.amazon.com/s3/home?region=us-west-2) in `us-west-2`\n",
    "2. Navigate to the `iceberg_feature_lab` folder in your `{bucket_name}` bucket\n",
    "3. Click the **Create folder** button\n",
    "4. Enter `nyc_tlc_data` for the **Folder name** and click the **Create folder** button\n",
    "5. Click into the `nyc_tlc_data` folder\n",
    "6. Click the **Create folder** button\n",
    "7. Enter `green` for the **Folder name** and click the **Create folder** button\n",
    "8. Click into the `green` folder\n",
    "9. Download one of the available Green Taxi Trip Records data files from NYC Taxi & Limousine Commission's [trip data page](https://www.nyc.gov/site/tlc/about/tlc-trip-record-data.page) (e.g., [November 2023 Green Taxi Trip Records](https://d37ci6vzurychx.cloudfront.net/trip-data/green_tripdata_2023-11.parquet))\n",
    "10. Click the **Upload** button, then the **Add Files** button\n",
    "11. Nagivate and select the parquet file downloaded in Step 9\n",
    "12. Click the **Upload** button to upload the file\n",
    "\"\"\".format(bucket_name=MY_ICEBERG_LAB_S3_BUCKET)\n",
    "\n",
    "\n",
    "md(here)"
   ]
  },
  {
   "cell_type": "markdown",
   "id": "652e254a-2a00-48e0-83d1-efda7605caf7",
   "metadata": {},
   "source": [
    "#### Step 2: Create an external volume\n",
    "IMPORTANT: The external volume used for parquet direct Snowflake Iceberg tables must explicitly disable encryption.\n",
    "\n",
    "<u>References</u>\n",
    "- Snowflake Documentation:\n",
    "  - [Configure an external volume for Iceberg tables](https://docs.snowflake.com/en/user-guide/tables-iceberg-configure-external-volume)\n",
    "  - [CREATE EXTERNAL VOLUME](https://docs.snowflake.com/en/sql-reference/sql/create-external-volume)"
   ]
  },
  {
   "cell_type": "code",
   "execution_count": null,
   "id": "441a0a6e-0fee-4cb5-9ede-d467f5a937dc",
   "metadata": {},
   "outputs": [],
   "source": [
    "%%sql\n",
    "\n",
    "use role support_rl;\n",
    "\n",
    "create or replace external volume {SNOW_USER}_iceberg_lab_no_enc_ext_vol\n",
    "    storage_locations = (\n",
    "        (\n",
    "            name = 's3_iceberg_lab'\n",
    "            storage_provider = 's3'\n",
    "            storage_base_url = 's3://{MY_ICEBERG_LAB_S3_BUCKET}/'\n",
    "            storage_aws_role_arn = '{MY_ICEBERG_LAB_S3_IAM_ROLE_ARN}'\n",
    "            encryption = (type='none')\n",
    "        )\n",
    "    )\n",
    ";\n",
    "\n",
    "desc external volume {SNOW_USER}_iceberg_lab_no_enc_ext_vol;"
   ]
  },
  {
   "cell_type": "markdown",
   "id": "45f5e1d8-e961-4405-9cc3-a0a50ad8b68b",
   "metadata": {},
   "source": [
    "#### Step 3: Create a catalog integration\n",
    "<u>References</u>\n",
    "- Snowflake Documentation:\n",
    "  - [Configure a catalog integration for Iceberg tables](https://docs.snowflake.com/en/user-guide/tables-iceberg-configure-catalog-integration)\n",
    "  - [CREATE CATALOG INTEGRATION](https://docs.snowflake.com/en/sql-reference/sql/create-catalog-integration)"
   ]
  },
  {
   "cell_type": "code",
   "execution_count": null,
   "id": "ce9c1d4c-2d37-430a-89e8-450606598bb2",
   "metadata": {},
   "outputs": [],
   "source": [
    "%%sql\n",
    "\n",
    "use role support_rl;\n",
    "\n",
    "create or replace catalog integration {SNOW_USER}_pd_cat_int\n",
    "    catalog_source = object_store\n",
    "    table_format = none\n",
    "    enabled = true\n",
    ";\n",
    "\n",
    "desc integration {SNOW_USER}_pd_cat_int;"
   ]
  },
  {
   "cell_type": "markdown",
   "id": "ee3c56d3-9de4-473f-9a65-708f92f04c4e",
   "metadata": {},
   "source": [
    "#### Step 4: Create the parquet direct Iceberg Snowflake tables (unmanaged)"
   ]
  },
  {
   "cell_type": "code",
   "execution_count": null,
   "id": "8d88be79-00f3-4af3-ab60-04536bf44716",
   "metadata": {},
   "outputs": [],
   "source": [
    "%%sql\n",
    "\n",
    "use role support_rl;\n",
    "use warehouse {SNOW_USER}_wh;\n",
    "use {SNOW_USER}_db.iceberg;\n",
    "\n",
    "/*\n",
    "table schema detail: https://www.nyc.gov/assets/tlc/downloads/pdf/data_dictionary_trip_records_green.pdf\n",
    "*/\n",
    "\n",
    "create or replace iceberg table {SNOW_USER}_db.iceberg.{SNOW_USER}_unmanaged_pd_nyc_tlc_green_trip_record_t (\n",
    "    vendor_id              string,\n",
    "    llpep_pickup_datetime  datetime,\n",
    "    llpep_dropoff_datetime datetime,\n",
    "    passenger_count        bigint,\n",
    "    trip_distance          double,\n",
    "    pu_location_id         string,\n",
    "    do_location_id         string,\n",
    "    rate_code_id           bigint,\n",
    "    store_and_fwd_flag     string,\n",
    "    payment_type           bigint,\n",
    "    fare_amount            double,\n",
    "    extra                  double,\n",
    "    mta_tax                double,\n",
    "    improvement_surcharge  double,\n",
    "    tip_amount             double,\n",
    "    tolls_amount           double,\n",
    "    total_amount           double,\n",
    "    trip_type              bigint\n",
    "    )\n",
    "    external_volume = {SNOW_USER}_iceberg_lab_no_enc_ext_vol\n",
    "    catalog = {SNOW_USER}_pd_cat_int\n",
    "    base_location = 'iceberg_feature_lab/nyc_tlc_data/green/'\n",
    ";"
   ]
  },
  {
   "cell_type": "markdown",
   "id": "4d351658-90bb-49cc-a085-c5fa44041e4d",
   "metadata": {},
   "source": [
    "#### Step 5: Verify the Snowflake Iceberg tables contain data"
   ]
  },
  {
   "cell_type": "code",
   "execution_count": null,
   "id": "74702a3b-8389-4a20-b938-86e430b736e6",
   "metadata": {},
   "outputs": [],
   "source": [
    "%%sql\n",
    "\n",
    "use role support_rl;\n",
    "use warehouse {SNOW_USER}_wh;\n",
    "use {SNOW_USER}_db.iceberg;\n",
    "\n",
    "select\n",
    "    count(*)\n",
    "from {SNOW_USER}_db.iceberg.{SNOW_USER}_unmanaged_pd_nyc_tlc_green_trip_record_t\n",
    "where true\n",
    ";"
   ]
  },
  {
   "cell_type": "code",
   "execution_count": null,
   "id": "d9188434-b2e1-49cc-a028-128f0f17e563",
   "metadata": {},
   "outputs": [],
   "source": [
    "%%sql\n",
    "\n",
    "use role support_rl;\n",
    "use warehouse {SNOW_USER}_wh;\n",
    "use {SNOW_USER}_db.iceberg;\n",
    "\n",
    "select\n",
    "    *\n",
    "from {SNOW_USER}_db.iceberg.{SNOW_USER}_unmanaged_pd_nyc_tlc_green_trip_record_t\n",
    "where true\n",
    "limit 25\n",
    ";"
   ]
  },
  {
   "cell_type": "markdown",
   "id": "782c6e67-d74b-4c33-b6ec-ae5e36487da9",
   "metadata": {},
   "source": [
    "#### Step 6: Inspect the Snowflake Iceberg table DDL"
   ]
  },
  {
   "cell_type": "code",
   "execution_count": null,
   "id": "b6fdd972-c40b-455d-a663-308917e52f70",
   "metadata": {},
   "outputs": [],
   "source": [
    "%%sql\n",
    "\n",
    "use role support_rl;\n",
    "use {SNOW_USER}_db.iceberg;\n",
    "\n",
    "select get_ddl('table', '{SNOW_USER}_db.iceberg.{SNOW_USER}_unmanaged_pd_nyc_tlc_green_trip_record_t'); "
   ]
  },
  {
   "cell_type": "markdown",
   "id": "6dbad764-355b-4cea-80c1-abd4b2470c56",
   "metadata": {},
   "source": [
    "#### Step 7: Inspect SYSTEM\\$GET_ICEBERG_TABLE_INFORMATION details\n",
    "<u>References</u>\n",
    "- Snowflake Documentation:\n",
    "  - [SYSTEM$GET_ICEBERG_TABLE_INFORMATION](https://docs.snowflake.com/en/sql-reference/functions/system_get_iceberg_table_information)"
   ]
  },
  {
   "cell_type": "code",
   "execution_count": null,
   "id": "d8c8b1cf-9449-42c4-a67f-63f68f3f1f4a",
   "metadata": {},
   "outputs": [],
   "source": [
    "%%sql\n",
    "\n",
    "use role support_rl;\n",
    "use warehouse {SNOW_USER}_wh;\n",
    "use {SNOW_USER}_db.iceberg;\n",
    "\n",
    "select system$get_iceberg_table_information('{SNOW_USER}_db.iceberg.{SNOW_USER}_unmanaged_pd_nyc_tlc_green_trip_record_t');"
   ]
  },
  {
   "cell_type": "markdown",
   "id": "fdf91618-f3d7-473b-adb1-dcb933b0217a",
   "metadata": {},
   "source": [
    "#### Step 8: (Optional) Cleanup\n",
    "Execute the cell below to drop the Snowflake objects created in this exercise."
   ]
  },
  {
   "cell_type": "code",
   "execution_count": null,
   "id": "04947c9e-a387-4c7b-96b7-14fd75f75d72",
   "metadata": {},
   "outputs": [],
   "source": [
    "%%sql\n",
    "\n",
    "use role support_rl;\n",
    "use {SNOW_USER}_db.iceberg;\n",
    "\n",
    "drop iceberg table if exists {SNOW_USER}_db.iceberg.{SNOW_USER}_unmanaged_pd_nyc_tlc_green_trip_record_t;\n",
    "drop stage if exists {SNOW_USER}_db.iceberg.{SNOW_USER}_pd_cat_int;\n",
    "drop integration if exists {SNOW_USER}_iceberg_lab_no_enc_ext_vol;"
   ]
  },
  {
   "cell_type": "markdown",
   "id": "fbf7322b-5c05-482d-9e83-6ac3cfbccb24",
   "metadata": {},
   "source": [
    "### Exercise 4: Read Spark Iceberg tables in Snowflake"
   ]
  },
  {
   "cell_type": "markdown",
   "id": "3a7a2d74-35da-4341-a246-59a2b94289ae",
   "metadata": {},
   "source": [
    "#### Step 1: Create a Spark database\n",
    "<u>References</u>\n",
    "- Spark Documentation:\n",
    "  - [CREATE DATABASE](https://spark.apache.org/docs/3.4.2/sql-ref-syntax-ddl-create-database.html#content)"
   ]
  },
  {
   "cell_type": "code",
   "execution_count": null,
   "id": "2ec69db4-713c-44e1-8380-b829158b9a8e",
   "metadata": {},
   "outputs": [],
   "source": [
    "%%sparksql\n",
    "\n",
    "create database if not exists demo;"
   ]
  },
  {
   "cell_type": "markdown",
   "id": "0c2eb752-7d2f-4d8a-ae81-1449873e9ac3",
   "metadata": {},
   "source": [
    "#### Step 2: Create the Spark Iceberg tables\n",
    "<u>References</u>\n",
    "- Iceberg Documentation:\n",
    "  - [CREATE TABLE](https://iceberg.apache.org/docs/latest/spark-ddl/#create-table)"
   ]
  },
  {
   "cell_type": "markdown",
   "id": "bdb9606c-fc27-40f3-ac40-9aab9c4c0658",
   "metadata": {},
   "source": [
    "SPARK ICEBERG TABLE (SIMPLE DATA TYPES)"
   ]
  },
  {
   "cell_type": "code",
   "execution_count": null,
   "id": "8c9a96cd-60ff-4693-a18e-22ca2706de89",
   "metadata": {},
   "outputs": [],
   "source": [
    "%%sparksql\n",
    "\n",
    "CREATE TABLE IF NOT EXISTS demo.nyc.taxi_simple_types (\n",
    "    VendorID              bigint,\n",
    "    tpep_pickup_datetime  timestamp,\n",
    "    tpep_dropoff_datetime timestamp,\n",
    "    passenger_count       double,\n",
    "    trip_distance         double,\n",
    "    RatecodeID            double,\n",
    "    store_and_fwd_flag    string,\n",
    "    PULocationID          bigint,\n",
    "    DOLocationID          bigint,\n",
    "    payment_type          bigint,\n",
    "    fare_amount           double,\n",
    "    extra                 double,\n",
    "    mta_tax               double,\n",
    "    tip_amount            double,\n",
    "    tolls_amount          double,\n",
    "    improvement_surcharge double,\n",
    "    total_amount          double,\n",
    "    congestion_surcharge  double,\n",
    "    airport_fee           double\n",
    ")\n",
    "USING iceberg\n",
    "PARTITIONED BY (days(tpep_pickup_datetime))\n",
    ";"
   ]
  },
  {
   "cell_type": "markdown",
   "id": "33d951d8-49d4-4e08-92e2-a318eff63ed1",
   "metadata": {},
   "source": [
    "SPARK ICEBERG TABLE (COMPLEX DATA TYPES)"
   ]
  },
  {
   "cell_type": "code",
   "execution_count": null,
   "id": "cc6c1924-6212-44e7-b5ea-a82cfb64d020",
   "metadata": {},
   "outputs": [],
   "source": [
    "%%sparksql\n",
    "\n",
    "CREATE TABLE IF NOT EXISTS demo.nyc.taxi_complex_types (\n",
    "    tpep_pickup_datetime timestamp,\n",
    "    tpep_dropoff_datetime timestamp,\n",
    "    data struct<\n",
    "        VendorID                       : bigint,\n",
    "        tpep_pickup_datetime_as_epoch  : bigint,\n",
    "        tpep_dropoff_datetime_as_epoch : bigint,\n",
    "        passenger_count                : double,\n",
    "        trip_distance                  : double,\n",
    "        RatecodeID                     : double,\n",
    "        store_and_fwd_flag             : string,\n",
    "        PULocationID                   : bigint,\n",
    "        DOLocationID                   : bigint,\n",
    "        payment_type                   : bigint,\n",
    "        fare_amount                    : double,\n",
    "        extra                          : double,\n",
    "        mta_tax                        : double,\n",
    "        tip_amount                     : double,\n",
    "        tolls_amount                   : double,\n",
    "        improvement_surcharge          : double,\n",
    "        total_amount                   : double,\n",
    "        congestion_surcharge           : double,\n",
    "        airport_fee                    : double>\n",
    ")\n",
    "USING iceberg\n",
    "PARTITIONED BY (days(tpep_pickup_datetime))\n",
    ";"
   ]
  },
  {
   "cell_type": "markdown",
   "id": "91a49f5c-67fa-488b-916d-ac232c316b19",
   "metadata": {},
   "source": [
    "#### Step 3: Load the Spark Iceberg tables\n",
    "<u>References<u>\n",
    "- Spark Documentation:\n",
    "  - [pyspark.sql.DataFrameReader.parquet](https://spark.apache.org/docs/latest/api/python/reference/pyspark.sql/api/pyspark.sql.DataFrameReader.parquet.html) \n",
    "  - [pyspark.sql.DataFrameWriter.saveAsTable](https://spark.apache.org/docs/latest/api/python/reference/pyspark.sql/api/pyspark.sql.DataFrameWriter.saveAsTable.html)"
   ]
  },
  {
   "cell_type": "markdown",
   "id": "a7ea56c8-debf-420f-a74f-5037072bd3bc",
   "metadata": {},
   "source": [
    "SPARK ICEBERG TABLE (SIMPLE DATA TYPES)"
   ]
  },
  {
   "cell_type": "code",
   "execution_count": null,
   "id": "c63ee343-ac73-48e3-ab19-9c0de5273ad2",
   "metadata": {},
   "outputs": [],
   "source": [
    "for filename in [\n",
    "    \"yellow_tripdata_2023-11.parquet\",\n",
    "    \"yellow_tripdata_2023-10.parquet\",\n",
    "    \"yellow_tripdata_2023-09.parquet\"\n",
    "]:\n",
    "    df = spark.read.parquet(f\"/home/spark/data/{filename}\")\n",
    "    df.write.mode(\"append\").saveAsTable(\"demo.nyc.taxi_simple_types\")"
   ]
  },
  {
   "cell_type": "markdown",
   "id": "2b60093a-32bb-419b-9400-6a659e443144",
   "metadata": {},
   "source": [
    "SPARK ICEBERG TABLE (COMPLEX DATA TYPES)"
   ]
  },
  {
   "cell_type": "code",
   "execution_count": null,
   "id": "97630314-8b47-4eb1-ba48-45e7d457957c",
   "metadata": {},
   "outputs": [],
   "source": [
    "from pyspark.sql.functions import struct, unix_timestamp\n",
    "\n",
    "for filename in [\n",
    "    \"yellow_tripdata_2023-11.parquet\",\n",
    "    \"yellow_tripdata_2023-10.parquet\",\n",
    "    \"yellow_tripdata_2023-09.parquet\",\n",
    "]:\n",
    "    df = spark.read.parquet(f\"/home/spark/data/{filename}\")\n",
    "    df = df.withColumn(\"tpep_pickup_datetime_as_epoch\", unix_timestamp(\"tpep_pickup_datetime\"))\n",
    "    df = df.withColumn(\"tpep_dropoff_datetime_as_epoch\", unix_timestamp(\"tpep_dropoff_datetime\"))\n",
    "    df = df.withColumn(\"data\", struct(\n",
    "                                    \"VendorID\"\n",
    "                                    , \"tpep_pickup_datetime_as_epoch\"\n",
    "                                    , \"tpep_dropoff_datetime_as_epoch\"\n",
    "                                    , \"passenger_count\"\n",
    "                                    , \"trip_distance\"\n",
    "                                    , \"RatecodeID\"\n",
    "                                    , \"store_and_fwd_flag\"\n",
    "                                    , \"PULocationID\"\n",
    "                                    , \"DOLocationID\"\n",
    "                                    , \"payment_type\"\n",
    "                                    , \"fare_amount\"\n",
    "                                    , \"extra\"\n",
    "                                    , \"mta_tax\"\n",
    "                                    , \"tip_amount\"\n",
    "                                    , \"tolls_amount\"\n",
    "                                    , \"improvement_surcharge\"\n",
    "                                    , \"total_amount\"\n",
    "                                    , \"congestion_surcharge\"\n",
    "                                    , \"airport_fee\"))\n",
    "    df = df.select(\"tpep_pickup_datetime\", \"tpep_dropoff_datetime\", \"data\")\n",
    "    df.write.mode(\"append\").saveAsTable(\"demo.nyc.taxi_complex_types\")"
   ]
  },
  {
   "cell_type": "markdown",
   "id": "1cdf5625-f6b1-4290-9784-997382388cfe",
   "metadata": {},
   "source": [
    "#### Step 4: Verify the Spark Iceberg tables contain data"
   ]
  },
  {
   "cell_type": "markdown",
   "id": "8d0da22d-ab54-4305-8658-9888175d5d65",
   "metadata": {},
   "source": [
    "SPARK ICEBERG TABLE (SIMPLE DATA TYPES)"
   ]
  },
  {
   "cell_type": "code",
   "execution_count": null,
   "id": "278ff3da-bd9c-4e2b-bd64-d87043b96bfa",
   "metadata": {},
   "outputs": [],
   "source": [
    "%%sparksql\n",
    "\n",
    "select count(*) from demo.nyc.taxi_simple_types;"
   ]
  },
  {
   "cell_type": "code",
   "execution_count": null,
   "id": "0165ca21-6d73-4984-a07c-b0fcf3145042",
   "metadata": {},
   "outputs": [],
   "source": [
    "%%sparksql\n",
    "\n",
    "select * from demo.nyc.taxi_simple_types limit 25;"
   ]
  },
  {
   "cell_type": "markdown",
   "id": "a54334a2-0a8f-497f-95e2-9708837532a6",
   "metadata": {},
   "source": [
    "SPARK ICEBERG TABLE (COMPLEX DATA TYPES)"
   ]
  },
  {
   "cell_type": "code",
   "execution_count": null,
   "id": "1323de90-19ab-471d-bb9c-8cca0f6d2bbd",
   "metadata": {},
   "outputs": [],
   "source": [
    "%%sparksql\n",
    "\n",
    "select count(*) from demo.nyc.taxi_complex_types;"
   ]
  },
  {
   "cell_type": "code",
   "execution_count": null,
   "id": "bafd0078-7f1b-466b-9a61-026a70faedea",
   "metadata": {},
   "outputs": [],
   "source": [
    "%%sparksql\n",
    "\n",
    "select * from demo.nyc.taxi_complex_types limit 25;"
   ]
  },
  {
   "cell_type": "markdown",
   "id": "4c436fb5-a4c9-4fa3-8593-8226bb42bc2c",
   "metadata": {},
   "source": [
    "#### Step 5: Create Snowflake Iceberg tables on the Spark Iceberg tables (unmanaged)"
   ]
  },
  {
   "cell_type": "markdown",
   "id": "7ae2288a-f612-4d6f-a59b-84d14f3cf17c",
   "metadata": {},
   "source": [
    "SPARK ICEBERG TABLE (SIMPLE TYPES)"
   ]
  },
  {
   "cell_type": "code",
   "execution_count": null,
   "id": "6ae51512-82c5-4410-b8f1-999b3761963a",
   "metadata": {},
   "outputs": [],
   "source": [
    "# Replace <SPARK_ICEBERG_TAXI_SIMPLE_TYPES_TABLE_METADATA_FILE> with the name of latest Spark Iceberg table metadata file in the \n",
    "# applicable path from your us-west-2 bucket (HINT: Filter for the most current timestamp)\n",
    "SPARK_ICEBERG_TAXI_SIMPLE_TYPES_TABLE_METADATA_FILE='<SPARK_ICEBERG_TAXI_SIMPLE_TYPES_TABLE_METADATA_FILE>'"
   ]
  },
  {
   "cell_type": "code",
   "execution_count": null,
   "id": "7a331ff7-2e00-4cc7-b4a7-be125ef94ec5",
   "metadata": {},
   "outputs": [],
   "source": [
    "%%sql\n",
    "\n",
    "use role support_rl;\n",
    "use warehouse {SNOW_USER}_wh;\n",
    "use {SNOW_USER}_db.iceberg;\n",
    "\n",
    "create or replace iceberg table {SNOW_USER}_db.iceberg.{SNOW_USER}_unmanaged_spark_taxi_simple_types\n",
    "    external_volume = {SNOW_USER}_iceberg_lab_ext_vol\n",
    "    catalog = {SNOW_USER}_os_cat_int\n",
    "    metadata_file_path = 'spark/warehouse/demo/nyc/taxi_simple_types/metadata/{SPARK_ICEBERG_TAXI_SIMPLE_TYPES_TABLE_METADATA_FILE}'\n",
    ";"
   ]
  },
  {
   "cell_type": "markdown",
   "id": "193c8f50-6a9c-40ac-9b28-e872073f574e",
   "metadata": {},
   "source": [
    "SPARK ICEBERG TABLE (COMPLEX TYPES)"
   ]
  },
  {
   "cell_type": "code",
   "execution_count": null,
   "id": "2b54af3d-e49c-42b1-b27b-7ba7292eb6da",
   "metadata": {},
   "outputs": [],
   "source": [
    "# Replace <SPARK_ICEBERG_TAXI_COMPLEX_TYPES_TABLE_METADATA_FILE> with the name of latest Spark Iceberg table metadata file in the \n",
    "# applicable path from your us-west-2 bucket (HINT: Filter for the most current timestamp)\n",
    "SPARK_ICEBERG_TAXI_COMPLEX_TYPES_TABLE_METADATA_FILE='<SPARK_ICEBERG_TAXI_COMPLEX_TYPES_TABLE_METADATA_FILE>'"
   ]
  },
  {
   "cell_type": "code",
   "execution_count": null,
   "id": "e37606fd-7623-451d-9beb-0d8a98a15549",
   "metadata": {},
   "outputs": [],
   "source": [
    "%%sql\n",
    "\n",
    "use role support_rl;\n",
    "use warehouse {SNOW_USER}_wh;\n",
    "use {SNOW_USER}_db.iceberg;\n",
    "\n",
    "create or replace iceberg table {SNOW_USER}_db.iceberg.{SNOW_USER}_unmanaged_spark_taxi_complex_types\n",
    "    external_volume = {SNOW_USER}_iceberg_lab_ext_vol\n",
    "    catalog = {SNOW_USER}_os_cat_int\n",
    "    metadata_file_path = 'spark/warehouse/demo/nyc/taxi_complex_types/metadata/{SPARK_ICEBERG_TAXI_COMPLEX_TYPES_TABLE_METADATA_FILE}'\n",
    ";"
   ]
  },
  {
   "cell_type": "markdown",
   "id": "2f47b6d2-60bc-4bbf-b344-abc7588d8b69",
   "metadata": {},
   "source": [
    "#### Step 6: Verify the Snowflake Iceberg tables contain data"
   ]
  },
  {
   "cell_type": "markdown",
   "id": "57b13455-5b9e-4850-9e2e-2d5a8f71291c",
   "metadata": {},
   "source": [
    "SPARK ICEBERG TABLE (SIMPLE TYPES)"
   ]
  },
  {
   "cell_type": "code",
   "execution_count": null,
   "id": "df25cc78-300e-442f-b613-b69dcebe3d69",
   "metadata": {},
   "outputs": [],
   "source": [
    "%%sql\n",
    "\n",
    "use role support_rl;\n",
    "use warehouse {SNOW_USER}_wh;\n",
    "use {SNOW_USER}_db.iceberg;\n",
    "\n",
    "select\n",
    "    count(*)\n",
    "from {SNOW_USER}_db.iceberg.{SNOW_USER}_unmanaged_spark_taxi_simple_types\n",
    "where true\n",
    ";"
   ]
  },
  {
   "cell_type": "code",
   "execution_count": null,
   "id": "e09f6e66-3ef4-401b-9b61-207a99c48eea",
   "metadata": {},
   "outputs": [],
   "source": [
    "%%sql\n",
    "\n",
    "use role support_rl;\n",
    "use warehouse {SNOW_USER}_wh;\n",
    "use {SNOW_USER}_db.iceberg;\n",
    "\n",
    "select\n",
    "    *\n",
    "from {SNOW_USER}_db.iceberg.{SNOW_USER}_unmanaged_spark_taxi_simple_types\n",
    "where true\n",
    "limit 25\n",
    ";"
   ]
  },
  {
   "cell_type": "markdown",
   "id": "8380583f-b541-4ed9-ba32-694b4f9f7283",
   "metadata": {},
   "source": [
    "SPARK ICEBERG TABLE (COMPLEX TYPES)"
   ]
  },
  {
   "cell_type": "code",
   "execution_count": null,
   "id": "b0184f35-a86e-4552-b601-1f1b3d91262f",
   "metadata": {},
   "outputs": [],
   "source": [
    "%%sql\n",
    "\n",
    "use role support_rl;\n",
    "use warehouse {SNOW_USER}_wh;\n",
    "use {SNOW_USER}_db.iceberg;\n",
    "\n",
    "select\n",
    "    count(*)\n",
    "from {SNOW_USER}_db.iceberg.{SNOW_USER}_unmanaged_spark_taxi_complex_types\n",
    "where true\n",
    ";"
   ]
  },
  {
   "cell_type": "code",
   "execution_count": null,
   "id": "836d6999-433a-4df4-afc4-91e994efa252",
   "metadata": {},
   "outputs": [],
   "source": [
    "%%sql\n",
    "\n",
    "use role support_rl;\n",
    "use warehouse {SNOW_USER}_wh;\n",
    "use {SNOW_USER}_db.iceberg;\n",
    "\n",
    "select\n",
    "    *\n",
    "from {SNOW_USER}_db.iceberg.{SNOW_USER}_unmanaged_spark_taxi_complex_types\n",
    "where true\n",
    "limit 25\n",
    ";"
   ]
  },
  {
   "cell_type": "markdown",
   "id": "4bb89f0b-26cd-4b97-97cc-946b4e1ce1ab",
   "metadata": {},
   "source": [
    "#### Step 7: Inspect the Snowflake Iceberg table DDL"
   ]
  },
  {
   "cell_type": "markdown",
   "id": "e15c2358-f41e-4641-a435-99e480629443",
   "metadata": {},
   "source": [
    "SPARK ICEBERG TABLE (SIMPLE TYPES)"
   ]
  },
  {
   "cell_type": "code",
   "execution_count": null,
   "id": "bbed87ff-0566-4d77-ab88-d30a83e2cd07",
   "metadata": {},
   "outputs": [],
   "source": [
    "%%sql\n",
    "\n",
    "use role support_rl;\n",
    "use {SNOW_USER}_db.iceberg;\n",
    "\n",
    "select get_ddl('table', '{SNOW_USER}_db.iceberg.{SNOW_USER}_unmanaged_spark_taxi_simple_types');"
   ]
  },
  {
   "cell_type": "markdown",
   "id": "6dde0cdc-85c8-44a8-825d-f6133d765585",
   "metadata": {},
   "source": [
    "SPARK ICEBERG TABLE (COMPLEX TYPES)"
   ]
  },
  {
   "cell_type": "code",
   "execution_count": null,
   "id": "9d42a77c-f92b-4a07-8e8a-7cff55812d20",
   "metadata": {},
   "outputs": [],
   "source": [
    "%%sql\n",
    "\n",
    "use role support_rl;\n",
    "use {SNOW_USER}_db.iceberg;\n",
    "\n",
    "select get_ddl('table', '{SNOW_USER}_db.iceberg.{SNOW_USER}_unmanaged_spark_taxi_complex_types');"
   ]
  },
  {
   "cell_type": "markdown",
   "id": "f85c2b21-c45e-4b9e-b5e7-cab0b3316fba",
   "metadata": {},
   "source": [
    "#### Step 8: Inspect SYSTEM\\$GET_ICEBERG_TABLE_INFORMATION details\n",
    "<u>References</u>\n",
    "- Snowflake Documentation:\n",
    "  - [SYSTEM$GET_ICEBERG_TABLE_INFORMATION](https://docs.snowflake.com/en/sql-reference/functions/system_get_iceberg_table_information)"
   ]
  },
  {
   "cell_type": "markdown",
   "id": "f13909d1-604e-44d2-93fe-829f07d63bd3",
   "metadata": {},
   "source": [
    "SPARK ICEBERG TABLE (SIMLE TYPES)"
   ]
  },
  {
   "cell_type": "code",
   "execution_count": null,
   "id": "8308dbee-66bb-451b-81f5-9b520372652c",
   "metadata": {},
   "outputs": [],
   "source": [
    "%%sql\n",
    "\n",
    "use role support_rl;\n",
    "use warehouse {SNOW_USER}_wh;\n",
    "use {SNOW_USER}_db.iceberg;\n",
    "\n",
    "select system$get_iceberg_table_information('{SNOW_USER}_db.iceberg.{SNOW_USER}_unmanaged_spark_taxi_simple_types');"
   ]
  },
  {
   "cell_type": "markdown",
   "id": "8c836305-961d-4173-8236-7907898439b9",
   "metadata": {},
   "source": [
    "SPARK ICEBERG TABLE (COMPLEX TYPES)"
   ]
  },
  {
   "cell_type": "code",
   "execution_count": null,
   "id": "2e2c3c25-64d7-442b-9d45-3f5aa0d95535",
   "metadata": {},
   "outputs": [],
   "source": [
    "%%sql\n",
    "\n",
    "use role support_rl;\n",
    "use warehouse {SNOW_USER}_wh;\n",
    "use {SNOW_USER}_db.iceberg;\n",
    "\n",
    "select system$get_iceberg_table_information('{SNOW_USER}_db.iceberg.{SNOW_USER}_unmanaged_spark_taxi_complex_types');"
   ]
  },
  {
   "cell_type": "markdown",
   "id": "0b04c6c4-55ba-415d-8b06-f0c6a0042b59",
   "metadata": {},
   "source": [
    "#### Step 9: Cleanup (Optional)\n",
    "\n",
    "Execute the cells below to drop the Snowflake objects created in this exercise."
   ]
  },
  {
   "cell_type": "code",
   "execution_count": null,
   "id": "3f8d8346-b8d7-4bae-888a-622a31ddc1a1",
   "metadata": {},
   "outputs": [],
   "source": [
    "%%sparksql\n",
    "\n",
    "drop table demo.nyc.taxi_simple_types;"
   ]
  },
  {
   "cell_type": "code",
   "execution_count": null,
   "id": "441126c1-5125-4d47-8643-5cb7eb4b9c5a",
   "metadata": {},
   "outputs": [],
   "source": [
    "%%sparksql\n",
    "\n",
    "drop table demo.nyc.taxi_complex_types;"
   ]
  },
  {
   "cell_type": "code",
   "execution_count": null,
   "id": "494e1165-047e-41bb-b9e9-c42d144703df",
   "metadata": {},
   "outputs": [],
   "source": [
    "%%sql\n",
    "\n",
    "use role support_rl;\n",
    "use {SNOW_USER}_db.iceberg;\n",
    "\n",
    "drop iceberg table if exists {SNOW_USER}_db.iceberg.{SNOW_USER}_unmanaged_spark_taxi_simple_types;\n",
    "drop iceberg table if exists {SNOW_USER}_db.iceberg.{SNOW_USER}_unmanaged_spark_taxi_complex_types;"
   ]
  },
  {
   "cell_type": "markdown",
   "id": "1a8cfc3b-811e-4233-b6b1-4ba3050b6337",
   "metadata": {},
   "source": [
    "### Exercise 5: Read a managed Snowflake Iceberg table in Spark"
   ]
  },
  {
   "cell_type": "markdown",
   "id": "0f9e689e-b5dd-44f6-9ce4-59f6d26419a1",
   "metadata": {},
   "source": [
    "#### Step 1: Create the Snowflake Iceberg table (managed)\n",
    "<u>References</u>\n",
    "- Snowflake Documentation:\n",
    "  - [CREATE ICEBERG TABLE](https://docs.snowflake.com/sql-reference/sql/create-iceberg-table)"
   ]
  },
  {
   "cell_type": "code",
   "execution_count": null,
   "id": "141251a6-9cff-4589-ad83-3bc4953851ae",
   "metadata": {},
   "outputs": [],
   "source": [
    "%%sql\n",
    "\n",
    "use role support_rl;\n",
    "use {SNOW_USER}_db.iceberg;\n",
    "\n",
    "create or replace iceberg table {SNOW_USER}_db.iceberg.{SNOW_USER}_managed_customer_t (\n",
    "    c_custkey integer,\n",
    "    c_name string,\n",
    "    c_address string,\n",
    "    c_nationkey integer,\n",
    "    c_phone string,\n",
    "    c_acctbal integer,\n",
    "    c_mktsegment string,\n",
    "    c_comment string\n",
    ")\n",
    "catalog = snowflake\n",
    "external_volume = {SNOW_USER}_iceberg_lab_ext_vol\n",
    "base_location = 'iceberg_feature_lab/managed/tpch_sf10/customer/data/'\n",
    ";"
   ]
  },
  {
   "cell_type": "markdown",
   "id": "780a3567-07b4-4f2b-9576-ed8e59133065",
   "metadata": {},
   "source": [
    "#### Step 2: Load the Snowflake Iceberg table"
   ]
  },
  {
   "cell_type": "code",
   "execution_count": null,
   "id": "f190d6da-3139-4b8d-9526-70c367ba2d45",
   "metadata": {},
   "outputs": [],
   "source": [
    "%%sql\n",
    "\n",
    "use role support_rl;\n",
    "use warehouse {SNOW_USER}_wh;\n",
    "use {SNOW_USER}_db.iceberg;\n",
    "\n",
    "insert into {SNOW_USER}_db.iceberg.{SNOW_USER}_managed_customer_t\n",
    "    select * from snowflake_sample_data.tpch_sf10.customer\n",
    ";"
   ]
  },
  {
   "cell_type": "markdown",
   "id": "019035d8-f634-4546-925e-6fc711b3ce92",
   "metadata": {},
   "source": [
    "#### Step 3: Verify the Snowflake Iceberg table contains data"
   ]
  },
  {
   "cell_type": "code",
   "execution_count": null,
   "id": "da400366-9793-43ba-bcdf-ebecc7b86a11",
   "metadata": {},
   "outputs": [],
   "source": [
    "%%sql\n",
    "\n",
    "use role support_rl;\n",
    "use warehouse {SNOW_USER}_wh;\n",
    "use {SNOW_USER}_db.iceberg;\n",
    "\n",
    "select\n",
    "    count(*)\n",
    "from {SNOW_USER}_db.iceberg.{SNOW_USER}_managed_customer_t\n",
    "where true\n",
    ";"
   ]
  },
  {
   "cell_type": "code",
   "execution_count": null,
   "id": "79c62e0e-ae9d-4fdb-9d8d-43673696eca1",
   "metadata": {},
   "outputs": [],
   "source": [
    "%%sql\n",
    "\n",
    "use role support_rl;\n",
    "use warehouse {SNOW_USER}_wh;\n",
    "use {SNOW_USER}_db.iceberg;\n",
    "\n",
    "select\n",
    "    *\n",
    "from {SNOW_USER}_db.iceberg.{SNOW_USER}_managed_customer_t\n",
    "where true\n",
    "limit 25\n",
    ";"
   ]
  },
  {
   "cell_type": "markdown",
   "id": "1fa9d08d-faca-4202-b992-e4fe016688e8",
   "metadata": {},
   "source": [
    "#### Step 4: Inspect the Snowflake Iceberg table DDL"
   ]
  },
  {
   "cell_type": "code",
   "execution_count": null,
   "id": "37a6814e-3a72-4d5a-ae56-001124d5b203",
   "metadata": {},
   "outputs": [],
   "source": [
    "%%sql\n",
    "\n",
    "use role support_rl;\n",
    "use {SNOW_USER}_db.iceberg;\n",
    "\n",
    "select get_ddl('table', '{SNOW_USER}_db.iceberg.{SNOW_USER}_managed_customer_t');"
   ]
  },
  {
   "cell_type": "markdown",
   "id": "59e05be8-f365-4959-8dd0-fba295be77a7",
   "metadata": {},
   "source": [
    "#### Step 5: Inspect SYSTEM\\$GET_ICEBERG_TABLE_INFORMATION details\n",
    "<u>References</u>\n",
    "- Snowflake Documentation:\n",
    "  - [SYSTEM$GET_ICEBERG_TABLE_INFORMATION](https://docs.snowflake.com/en/sql-reference/functions/system_get_iceberg_table_information)"
   ]
  },
  {
   "cell_type": "code",
   "execution_count": null,
   "id": "07a14da0-154e-47d8-ac4a-835a14780a89",
   "metadata": {},
   "outputs": [],
   "source": [
    "%%sql\n",
    "\n",
    "use role support_rl;\n",
    "use warehouse {SNOW_USER}_wh;\n",
    "use {SNOW_USER}_db.iceberg;\n",
    "\n",
    "select system$get_iceberg_table_information('{SNOW_USER}_db.iceberg.{SNOW_USER}_managed_customer_t');"
   ]
  },
  {
   "cell_type": "markdown",
   "id": "0d611ebc-de89-4e27-9292-56d238bebfe0",
   "metadata": {},
   "source": [
    "#### Step 6: Read the managed Snowflake Iceberg table from Spark"
   ]
  },
  {
   "cell_type": "code",
   "execution_count": null,
   "id": "31f13823-9faa-41bd-8913-fe8c859de6fc",
   "metadata": {},
   "outputs": [],
   "source": [
    "spark.catalog.setCurrentCatalog(\"snowflake_catalog\")\n",
    "spark.sql(f\"select * from {SNOW_USER}_db.iceberg.{SNOW_USER}_managed_customer_t\").limit(25).show()"
   ]
  },
  {
   "cell_type": "markdown",
   "id": "a7e7cb7e-0d94-4cdf-8f4d-b4d7c28931a5",
   "metadata": {},
   "source": [
    "#### Step 7: (Optional) Cleanup\n",
    "Execute the cell below to drop the Snowflake objects created in this exercise."
   ]
  },
  {
   "cell_type": "code",
   "execution_count": null,
   "id": "8a6f0a07-3f4e-4d96-ba79-e08161283f6e",
   "metadata": {},
   "outputs": [],
   "source": [
    "%%sql\n",
    "\n",
    "use role support_rl;\n",
    "use {SNOW_USER}_db.iceberg;\n",
    "\n",
    "drop iceberg table if exists {SNOW_USER}_db.iceberg.{SNOW_USER}_managed_customer_t;"
   ]
  }
 ],
 "metadata": {
  "kernelspec": {
   "display_name": "Python 3 (ipykernel)",
   "language": "python",
   "name": "python3"
  },
  "language_info": {
   "codemirror_mode": {
    "name": "ipython",
    "version": 3
   },
   "file_extension": ".py",
   "mimetype": "text/x-python",
   "name": "python",
   "nbconvert_exporter": "python",
   "pygments_lexer": "ipython3",
   "version": "3.8.10"
  }
 },
 "nbformat": 4,
 "nbformat_minor": 5
}
