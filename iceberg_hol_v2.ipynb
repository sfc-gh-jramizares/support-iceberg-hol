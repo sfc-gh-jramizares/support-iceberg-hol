{
 "cells": [
  {
   "cell_type": "markdown",
   "id": "4bf4eb03-bd10-4e2a-a1d7-7ec1c57e24c3",
   "metadata": {},
   "source": [
    "### SQLAlchemy pre-configuration"
   ]
  },
  {
   "cell_type": "code",
   "execution_count": null,
   "id": "f9cf66f4-c142-47cc-9ad1-277ad146a3ce",
   "metadata": {},
   "outputs": [],
   "source": [
    "!pip install snowflake-sqlalchemy ipython-sql"
   ]
  },
  {
   "cell_type": "code",
   "execution_count": null,
   "id": "4cb9fab5-6afb-495c-930b-15c27e41ff3e",
   "metadata": {},
   "outputs": [],
   "source": [
    "import re\n",
    "from os.path import expanduser\n",
    "from snowflake.sqlalchemy import URL\n",
    "\n",
    "USER_PATH = expanduser(\"~\")\n",
    "# set CONNECTION_KEY to the same name defined in the local SnowSQL configuration file\n",
    "CONNECTION_KEY = \"sfcsupport-feature_training\"\n",
    "\n",
    "with open(f'{USER_PATH}/.snowsql/config') as f:\n",
    "    connection = {}\n",
    "    skip_mode = False\n",
    "    connection_key = None\n",
    "    for line in f:\n",
    "        buffer = line.strip()\n",
    "        if (buffer is not None) and (buffer != \"\") and (buffer[0] != \"#\"):\n",
    "            if buffer[0] == \"[\":\n",
    "                result = re.search(r\"\\[connections\\.(.*)\\]\", buffer)\n",
    "                if result is not None and result.group(1) is not None:\n",
    "                    if connection_key is not None and not skip_mode:\n",
    "                        connection[connection_key] = config\n",
    "                    connection_key = result.group(1)\n",
    "                    if connection_key != \"example\":\n",
    "                        config = {}\n",
    "                        skip_mode = False\n",
    "                    else:\n",
    "                        skip_mode = True\n",
    "                else:\n",
    "                    skip_mode = True\n",
    "            elif not skip_mode:\n",
    "                (key, value) = buffer.replace(\" \", \"\").split(\"=\")\n",
    "                config[key] = value\n",
    "\n",
    "def strip_quotes(v):\n",
    "    if v is not None:\n",
    "        return v.replace(\"'\", \"\").replace(\"\\\"\", \"\")\n",
    "    else:\n",
    "        return v\n",
    "\n",
    "SNOW_LOCATOR = strip_quotes(connection[CONNECTION_KEY][\"accountname\"]) if \"accountname\" in connection[CONNECTION_KEY] else None\n",
    "SNOW_USER = strip_quotes(connection[CONNECTION_KEY][\"username\"]) if \"username\" in connection[CONNECTION_KEY] else None\n",
    "SNOW_PASSWD = strip_quotes(connection[CONNECTION_KEY][\"password\"]) if \"password\" in connection[CONNECTION_KEY] else None\n",
    "SNOW_DB = strip_quotes(connection[CONNECTION_KEY][\"database\"]) if \"database\" in connection[CONNECTION_KEY] else None\n",
    "SNOW_WAREHOUSE = strip_quotes(connection[CONNECTION_KEY][\"warehouse\"]) if \"warehouse\" in connection[CONNECTION_KEY] else None\n",
    "SNOW_ROLE = strip_quotes(connection[CONNECTION_KEY][\"role\"]) if \"role\" in connection[CONNECTION_KEY] else None\n",
    "\n",
    "if (SNOW_LOCATOR is not None) and (SNOW_USER is not None) and (SNOW_PASSWD is not None) and \\\n",
    "    (SNOW_DB is not None) and (SNOW_WAREHOUSE is not None) and (SNOW_ROLE is not None):\n",
    "    %reload_ext sql\n",
    "    %sql snowflake://{SNOW_USER}:{SNOW_PASSWD}@{SNOW_LOCATOR}/{SNOW_DB}?role={SNOW_ROLE}&warehouse={SNOW_WAREHOUSE}\n",
    "else:\n",
    "    raise Exception(\"One or more of the following connection parameters is not defined: accountname, \" \\\n",
    "        \"username, password, database, warehouse, role\")"
   ]
  },
  {
   "cell_type": "markdown",
   "id": "f9e05166-e8ec-4b80-95a3-8d39703491cf",
   "metadata": {},
   "source": [
    "### SRR Resources\n",
    "\n",
    "- Training\n",
    "    - Engineering\n",
    "        - [Iceberg Tables Training for Support](https://snowflakecomputing.atlassian.net/wiki/spaces/CustomerSupport/pages/3028713756/Iceberg+Tables+Training+for+Support)\n",
    "    - Support\n",
    "        - [Intro to Iceberg Tables - Key Concepts training](https://snowflake.zoom.us/rec/share/997cOWJYC6rBIuyzs2P02oD8f28M7dzWj0ygDG9NuIhw3uti2EUqq8_h1m9VUQ8l.dpBvyZ9p_YEQVkOx)\n",
    "            - Passcode: <code>AAPQ&W5$</code>    \n",
    "- Runbook(s)\n",
    "    - [Iceberg Support Runbook](https://docs.google.com/document/d/18MjH6n3ypi4VEbs5_wa_Vpxgi0XtVWCLW4_EEe7DBLQ/edit#heading=h.1bu2wjpos1k9)\n",
    "- Product documentation\n",
    "    - [Iceberg tables](https://docs.snowflake.com/en/user-guide/tables-iceberg)"
   ]
  },
  {
   "cell_type": "markdown",
   "id": "ccc1de49-c7a1-4171-9b84-f7f98db14a25",
   "metadata": {},
   "source": [
    "### What is Apache Iceberg?\n",
    "\n",
    "[Apache Iceberg](https://iceberg.apache.org/docs/latest/) is an open-source table format specification developed for huge analytic datasets. "
   ]
  },
  {
   "cell_type": "markdown",
   "id": "9cf0d783-56e5-458f-af21-6910188ce4ba",
   "metadata": {
    "tags": []
   },
   "source": [
    "### What are Iceberg Tables?\n",
    "\n",
    "Iceberg tables are a new table type designed to support the [Apache Iceberg table specification](https://iceberg.apache.org/spec/) to represent a large collection of slowly-changing files on a distributed file system (AWS S3, Azure Blob, Google Cloud Storage) with performance close to that of native Snowflake tables.\n",
    "\n",
    "The architecture of an Apache Iceberg table is defined as three distinct layers:\n",
    "- [Iceberg Catalog](https://iceberg.apache.org/concepts/catalog/#iceberg-catalogs) - Used to manage a collection of tables</li>\n",
    "- [Metadata](https://iceberg.apache.org/spec/#specification) - Used to manage table states in a catalog through a combination of metadata files (JSON), manifest lists (Avro), and manifest files (Avro)\n",
    "- Data - Collection of files that represent the data for all tables in the catalog\n",
    "\n",
    "<div>\n",
    "<img src=\"https://iceberg.apache.org/img/iceberg-metadata.png\" width=\"50%\"/>\n",
    "</div>\n",
    "\n",
    "\n",
    "Snowflake supports Iceberg tables with externally managed catalogs (<strong>unmanaged</strong>) and natively managed catalogs (<strong>managed</strong>).\n",
    "\n",
    "The following catalog types are supported for unmanaged iceberg tables:\n",
    "- [AWS Glue data catalog](https://docs.aws.amazon.com/glue/latest/dg/catalog-and-crawler.html)\n",
    "- Object storage\n",
    "    - Iceberg\n",
    "    - Loose parquet (PrPr)\n",
    "\n",
    "To create an unmanaged Iceberg table, you will need to configure:\n",
    "- [EXTERNAL VOLUME](https://docs.snowflake.com/sql-reference/sql/create-external-volume) - Defines the location(s) for the external catalog, metadata, and data\n",
    "- [CATALOG INTEGRATION](https://docs.snowflake.com/en/sql-reference/sql/create-catalog-integration) - Defines the details of the external catalog"
   ]
  },
  {
   "cell_type": "markdown",
   "id": "4c3027a2-c61e-4fe2-a0af-a5c899737296",
   "metadata": {},
   "source": [
    "### Exercise 1: Create an unmanaged AWS Iceberg table (type=OBJECT_STORE)\n",
    "<u>Prerequisites</u>:\n",
    "1. You must have a personal AWS S3 bucket in <code>us-west-2</code>\n",
    "2. You must have an AWS IAM policy that allows read/write access to your personal AWS S3 bucket\n",
    "3. You must have an AWS IAM role that is assigned the AWS IAM policy (2)"
   ]
  },
  {
   "cell_type": "code",
   "execution_count": null,
   "id": "50a5f782-07bf-4d33-aeca-0d4760443f5f",
   "metadata": {},
   "outputs": [],
   "source": [
    "# Replace <MY_S3_BUCKET> with the name of your bucket in us-west2\n",
    "MY_S3_BUCKET='<MY_S3_BUCKET>'\n",
    "# Replace <MY_IAM_ROLE_ARN> with the name of your IAM role ARN\n",
    "MY_IAM_ROLE_ARN='<MY_IAM_ROLE_ARN>'"
   ]
  },
  {
   "cell_type": "markdown",
   "id": "4dbc00de-1612-42ad-b0cd-b3fa42ae2827",
   "metadata": {},
   "source": [
    "#### Step 1: Create an AWS Iceberg table using AWS Athena\n",
    "NOTE: Run the cell below to generate instructions"
   ]
  },
  {
   "cell_type": "code",
   "execution_count": 19,
   "id": "99eb7d79-201b-490b-833b-7b59ebf1df72",
   "metadata": {},
   "outputs": [
    {
     "data": {
      "text/markdown": [
       "\n",
       "<u>Instructions</u>:\n",
       "1. Login to the AWS CE-Sandbox Console via [SnowBiz Okta](https://snowbiz.okta.com/)\n",
       "2. Navigate to the [AWS Athena query editor](https://us-west-2.console.aws.amazon.com/athena/home?region=us-west-2#/query-editor) in <code>us-west-2</code>\n",
       "3. Execute the following SQL to create a new database:\n",
       "```\n",
       "create database if not exists kterada_db;\n",
       "```\n",
       "4. Execute the following SQL to create an AWS Iceberg table:\n",
       "```\n",
       "create table if not exists kterada_db.iceberg_tcpds_sf10tcl_web_sales_t with (table_type='iceberg', location='s3://<MY_S3_BUCKET>/iceberg_feature_lab/', is_external=false)\n",
       "as select * from kterada_db.kt_os_iceberg_tpcds_sf10tcl_web_sales limit 1000;\n",
       "```\n"
      ],
      "text/plain": [
       "<IPython.core.display.Markdown object>"
      ]
     },
     "execution_count": 19,
     "metadata": {},
     "output_type": "execute_result"
    }
   ],
   "source": [
    "from IPython.display import Markdown as md\n",
    "\n",
    "SOURCE_TABLE='kterada_db.kt_os_iceberg_tpcds_sf10tcl_web_sales'\n",
    "TARGET_DB_NAME=SNOW_USER + '_db'\n",
    "TARGET_TABLE_NAME='iceberg_tcpds_sf10tcl_web_sales_t'\n",
    "\n",
    "here = \"\"\"\n",
    "<u>Instructions</u>:\n",
    "1. Login to the AWS CE-Sandbox Console via [SnowBiz Okta](https://snowbiz.okta.com/)\n",
    "2. Navigate to the [AWS Athena query editor](https://us-west-2.console.aws.amazon.com/athena/home?region=us-west-2#/query-editor) in <code>us-west-2</code>\n",
    "3. Execute the following SQL to create a new database:\n",
    "```\n",
    "create database if not exists {username}_db;\n",
    "```\n",
    "4. Execute the following SQL to create an AWS Iceberg table:\n",
    "```\n",
    "create table if not exists {db_name}.{table_name} with (table_type='iceberg', location='s3://{my_s3_bucket}/iceberg_feature_lab/', is_external=false)\n",
    "as select * from {source_table} limit 1000;\n",
    "```\n",
    "\"\"\".format(my_s3_bucket=MY_S3_BUCKET, username=SNOW_USER, db_name=TARGET_DB_NAME, table_name=TARGET_TABLE_NAME, source_table=SOURCE_TABLE)\n",
    "\n",
    "md(here)"
   ]
  },
  {
   "cell_type": "markdown",
   "id": "7f14b0f0-2a22-409c-8c1f-fff1d0333f91",
   "metadata": {},
   "source": [
    "#### Step 2: Create an external volume\n",
    "\n",
    "References:\n",
    "- Snowflake Documentation: [Configure an external volume for Iceberg tables](https://docs.snowflake.com/en/user-guide/tables-iceberg-configure-external-volume)"
   ]
  },
  {
   "cell_type": "code",
   "execution_count": null,
   "id": "3482be6b-425b-4113-b5fa-d6c3ab0ca029",
   "metadata": {},
   "outputs": [],
   "source": [
    "%%sql\n",
    "use role support_rl;\n",
    "create external volume if not exists {SNOW_USER}_ext_vol\n",
    "    storage_locations = (\n",
    "        (\n",
    "            name = 's3_iceberg_unmanaged'\n",
    "            storage_provider = 's3'\n",
    "            storage_base_url = 's3://{TARGET_S3_BUCKET}/'\n",
    "            storage_aws_role_arn = '{IAM_ROLE_ARN}'\n",
    "            encryption = (type='aws_sse_s3')\n",
    "        )\n",
    "    )\n",
    ";\n",
    "desc external volume {SNOW_USER}_ext_vol;"
   ]
  },
  {
   "cell_type": "markdown",
   "id": "9fa79498-d8dc-4284-bacf-d32379ae1399",
   "metadata": {},
   "source": [
    "NOTE: After creating the external volume, you must update trust relationships in your AWS role based on the `DESCRIBE` output"
   ]
  },
  {
   "cell_type": "markdown",
   "id": "b0c296f0-ff85-46f7-8977-e63bb71a2d67",
   "metadata": {},
   "source": [
    "#### Step 3: Create a catalog integration\n",
    "\n",
    "References:\n",
    "- Snowflake Documentation: [Configure a catalog integration for Iceberg tables](https://docs.snowflake.com/en/user-guide/tables-iceberg-configure-catalog-integration)"
   ]
  },
  {
   "cell_type": "markdown",
   "id": "cd2bffcc-d68b-42d0-b82d-18f15e84aff7",
   "metadata": {},
   "source": [
    "##### OBJECT STORAGE (ICEBERG)"
   ]
  },
  {
   "cell_type": "code",
   "execution_count": null,
   "id": "e1c07818-93a6-46b8-9487-6ab55512b0dc",
   "metadata": {},
   "outputs": [],
   "source": [
    "%%sql\n",
    "\n",
    "use role support_rl;\n",
    "\n",
    "create catalog integration if not exists {SNOW_USER}_os_iceberg_cat_int\n",
    "    catalog_source = object_store\n",
    "    table_format = iceberg\n",
    "    enabled = true\n",
    ";\n",
    "desc integration {SNOW_USER}_os_iceberg_cat_int;"
   ]
  },
  {
   "cell_type": "markdown",
   "id": "151af502-f070-409d-b3b2-332f1d9151f5",
   "metadata": {},
   "source": [
    "#### Step 4: Create the unmanaged Snowflake Iceberg table\n",
    "\n",
    "References:\n",
    "- Snowflake Documentation: [Create an Iceberg table](https://docs.snowflake.com/user-guide/tables-iceberg-create)"
   ]
  },
  {
   "cell_type": "code",
   "execution_count": null,
   "id": "69846a27-645c-4d09-9326-37d777d65119",
   "metadata": {},
   "outputs": [],
   "source": [
    "%%sql\n",
    "\n",
    "use role support_rl;\n",
    "create warehouse if not exists {SNOW_USER}_wh warehouse_size='xsmall';\n",
    "create database if not exists {SNOW_USER}_db;\n",
    "create schema if not exists {SNOW_USER}_db.iceberg;"
   ]
  },
  {
   "cell_type": "markdown",
   "id": "af16d1b6-2845-4e22-a9c6-802283d25ae6",
   "metadata": {},
   "source": [
    "##### OBJECT STORE (ICEBERG)\n",
    "\n",
    "NOTE: Prior to execution, you will need to replace <MY_ICEBERG_TABLE_METADATA_FILENAME> in the command with the *.metadata.json file created in Step 1 by inspecting the `iceberg_feature_lab/tcpds_sf10tcl/web_sales/metadata/` path in the S3 bucket provided."
   ]
  },
  {
   "cell_type": "code",
   "execution_count": null,
   "id": "08455d9f-db30-4320-aa53-c5c80a2234c9",
   "metadata": {},
   "outputs": [],
   "source": [
    "%%sql\n",
    "\n",
    "use role support_rl;\n",
    "create iceberg table if not exists {SNOW_USER}_db.iceberg.{SNOW_USER}_unmanaged_os_iceberg_web_sales_t\n",
    "    external_volume = {SNOW_USER}_ext_vol\n",
    "    catalog = {SNOW_USER}_os_iceberg_cat_int\n",
    "    metadata_file_path = 'iceberg_feature_lab/tcpds_sf10tcl/web_sales/metadata/<MY_ICEBERG_TABLE_METADATA_FILENAME>'\n",
    ";"
   ]
  },
  {
   "cell_type": "code",
   "execution_count": null,
   "id": "5f91728c-da96-4cce-958d-68039eb02e07",
   "metadata": {},
   "outputs": [],
   "source": [
    "%%sql\n",
    "\n",
    "use role support_rl;\n",
    "use warehouse {SNOW_USER}_wh;\n",
    "select\n",
    "    *\n",
    "from {SNOW_USER}_db.iceberg.{SNOW_USER}_unmanaged_os_iceberg_web_sales_t\n",
    "where true\n",
    ";"
   ]
  },
  {
   "cell_type": "markdown",
   "id": "e88262c9-9387-45b9-97d8-25f4eca22e6a",
   "metadata": {},
   "source": [
    "#### Step 5: Update the AWS Iceberg table\n",
    "NOTE: Run the cell below to generate instructions"
   ]
  },
  {
   "cell_type": "code",
   "execution_count": 21,
   "id": "30a6a6ba-93d9-4b7b-b287-7bdda7b6fa67",
   "metadata": {
    "scrolled": true
   },
   "outputs": [
    {
     "data": {
      "text/markdown": [
       "\n",
       "<u>Instructions</u>:\n",
       "1. In the AWS CE-Sandbox Console, navigate to the [AWS Athena query editor](https://us-west-2.console.aws.amazon.com/athena/home?region=us-west-2#/query-editor) in <code>us-west-2</code>\n",
       "2. Execute the following SQL to insert additional records into the AWS Iceberg table:\n",
       "```\n",
       "insert into kterada_db.iceberg_tcpds_sf10tcl_web_sales_t (select * from kterada_db.kt_os_iceberg_tpcds_sf10tcl_web_sales except select * from kterada_db.iceberg_tcpds_sf10tcl_web_sales_t limit 1000;\n",
       "```\n"
      ],
      "text/plain": [
       "<IPython.core.display.Markdown object>"
      ]
     },
     "execution_count": 21,
     "metadata": {},
     "output_type": "execute_result"
    }
   ],
   "source": [
    "from IPython.display import Markdown as md\n",
    "\n",
    "here = \"\"\"\n",
    "<u>Instructions</u>:\n",
    "1. In the AWS CE-Sandbox Console, navigate to the [AWS Athena query editor](https://us-west-2.console.aws.amazon.com/athena/home?region=us-west-2#/query-editor) in <code>us-west-2</code>\n",
    "2. Execute the following SQL to insert additional records into the AWS Iceberg table:\n",
    "```\n",
    "insert into {db_name}.{table_name} (select * from {source_table} except select * from {db_name}.{table_name} limit 1000;\n",
    "```\n",
    "\"\"\".format(my_s3_bucket=MY_S3_BUCKET, username=SNOW_USER, db_name=TARGET_DB_NAME, table_name=TARGET_TABLE_NAME, source_table=SOURCE_TABLE)\n",
    "\n",
    "md(here)"
   ]
  },
  {
   "cell_type": "markdown",
   "id": "a3714860-37e7-4d4a-a2d8-6712af65e6ad",
   "metadata": {},
   "source": [
    "#### Step 6: Manually refresh the unmanaged Snowflake Iceberg table\n",
    "\n",
    "NOTE: Prior to execution, you will need to replace <MY_ICEBERG_TABLE_METADATA_FILENAME> in the command with new the *.metadata.json file created in Step 5 by inspecting the `iceberg_feature_lab/tcpds_sf10tcl/web_sales/metadata/` path in the S3 bucket provided. (HINT: Look for the JSON file with the most recent timestamp)\n",
    "\n",
    "References:\n",
    "- Snowflake Documentation: [Manage an Iceberg table](https://docs.snowflake.com/user-guide/tables-iceberg-manage)"
   ]
  },
  {
   "cell_type": "code",
   "execution_count": null,
   "id": "236ca739-2a06-4599-9bb3-953d69d78b29",
   "metadata": {},
   "outputs": [],
   "source": [
    "%%sql\n",
    "\n",
    "alter iceberg table {SNOW_USER}_db.iceberg.{SNOW_USER}_unmanaged_os_iceberg_web_sales_t refresh 'iceberg_feature_lab/tcpds_sf10tcl/web_sales/metadata/<MY_ICEBERG_TABLE_METADATA_FILENAME>';"
   ]
  }
 ],
 "metadata": {
  "kernelspec": {
   "display_name": "Python 3 (ipykernel)",
   "language": "python",
   "name": "python3"
  },
  "language_info": {
   "codemirror_mode": {
    "name": "ipython",
    "version": 3
   },
   "file_extension": ".py",
   "mimetype": "text/x-python",
   "name": "python",
   "nbconvert_exporter": "python",
   "pygments_lexer": "ipython3",
   "version": "3.10.13"
  }
 },
 "nbformat": 4,
 "nbformat_minor": 5
}
