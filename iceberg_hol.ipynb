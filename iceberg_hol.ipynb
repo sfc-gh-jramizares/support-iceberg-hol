{
 "cells": [
  {
   "cell_type": "markdown",
   "id": "4bf4eb03-bd10-4e2a-a1d7-7ec1c57e24c3",
   "metadata": {},
   "source": [
    "### SQLAlchemy pre-configuration"
   ]
  },
  {
   "cell_type": "code",
   "execution_count": null,
   "id": "f9cf66f4-c142-47cc-9ad1-277ad146a3ce",
   "metadata": {},
   "outputs": [],
   "source": [
    "!pip install snowflake-sqlalchemy ipython-sql"
   ]
  },
  {
   "cell_type": "markdown",
   "id": "cd6ab6e2-6dcd-4707-87dd-f602da63c11b",
   "metadata": {},
   "source": [
    "#### Step 1: Set the CONNECTION_KEY to the same name defined in the local SnowSQL configuration file"
   ]
  },
  {
   "cell_type": "code",
   "execution_count": null,
   "id": "4cb9fab5-6afb-495c-930b-15c27e41ff3e",
   "metadata": {},
   "outputs": [],
   "source": [
    "import re\n",
    "from os.path import expanduser\n",
    "from snowflake.sqlalchemy import URL\n",
    "\n",
    "USER_PATH = expanduser(\"~\")\n",
    "# set CONNECTION_KEY to the same name defined in the local SnowSQL configuration file\n",
    "CONNECTION_KEY = \"training-jramizares\"\n",
    "\n",
    "with open(f'{USER_PATH}/.snowsql/config') as f:\n",
    "    connection = {}\n",
    "    for line in f:\n",
    "        buffer = None\n",
    "        if buffer is not None:\n",
    "            result = re.search(r\"\\[connections\\.(.*)\\]\", buffer)\n",
    "            buffer = None\n",
    "        else:\n",
    "            result = re.search(r\"\\[connections\\.(.*)\\]\", line)\n",
    "        if result:\n",
    "            connection_key = result.group(1)\n",
    "            if connection_key != \"example\":\n",
    "                config = {}\n",
    "                for buffer in f:\n",
    "                    result = re.search(r\"\\[connections\\.(.*)\\]\", buffer.strip())\n",
    "                    if buffer.strip() != \"\":\n",
    "                        (key, value) = buffer.strip().replace(\" \", \"\").split(\"=\")\n",
    "                        config[key] = value\n",
    "                    else:\n",
    "                        connection[connection_key] = config\n",
    "                        break\n",
    "\n",
    "SNOW_LOCATOR = connection[CONNECTION_KEY][\"accountname\"]\n",
    "SNOW_USER = connection[CONNECTION_KEY][\"username\"]\n",
    "SNOW_PASSWD = connection[CONNECTION_KEY][\"password\"]\n",
    "SNOW_DB = connection[CONNECTION_KEY][\"database\"]\n",
    "SNOW_SCHEMA = connection[CONNECTION_KEY][\"schema\"]\n",
    "SNOW_WAREHOUSE = connection[CONNECTION_KEY][\"warehouse\"]\n",
    "SNOW_ROLE = connection[CONNECTION_KEY][\"role\"]\n",
    "\n",
    "%reload_ext sql\n",
    "%sql snowflake://{SNOW_USER}:{SNOW_PASSWD}@{SNOW_LOCATOR}/{SNOW_DB}?role={SNOW_ROLE}&warehouse={SNOW_WAREHOUSE}"
   ]
  },
  {
   "cell_type": "markdown",
   "id": "f9e05166-e8ec-4b80-95a3-8d39703491cf",
   "metadata": {},
   "source": [
    "### SRR Resources\n",
    "\n",
    "- Training\n",
    "    - Engineering\n",
    "        - [Iceberg Tables Training for Support](https://snowflakecomputing.atlassian.net/wiki/spaces/CustomerSupport/pages/3028713756/Iceberg+Tables+Training+for+Support)\n",
    "    - Support\n",
    "        - [Intro to Iceberg Tables - Key Concepts training](https://snowflake.zoom.us/rec/share/997cOWJYC6rBIuyzs2P02oD8f28M7dzWj0ygDG9NuIhw3uti2EUqq8_h1m9VUQ8l.dpBvyZ9p_YEQVkOx)\n",
    "            - Passcode: <code>AAPQ&W5$</code>    \n",
    "- Runbook(s)\n",
    "    - [Iceberg Support Runbook](https://docs.google.com/document/d/18MjH6n3ypi4VEbs5_wa_Vpxgi0XtVWCLW4_EEe7DBLQ/edit#heading=h.1bu2wjpos1k9)\n",
    "- Product documentation\n",
    "    - [Iceberg tables](https://docs.snowflake.com/en/user-guide/tables-iceberg)"
   ]
  },
  {
   "cell_type": "markdown",
   "id": "ccc1de49-c7a1-4171-9b84-f7f98db14a25",
   "metadata": {},
   "source": [
    "### What is Apache Iceberg?\n",
    "\n",
    "[Apache Iceberg](https://iceberg.apache.org/docs/latest/) is an open-source table format specification developed for huge analytic datasets. "
   ]
  },
  {
   "cell_type": "markdown",
   "id": "9cf0d783-56e5-458f-af21-6910188ce4ba",
   "metadata": {
    "tags": []
   },
   "source": [
    "### What are Iceberg Tables?\n",
    "\n",
    "Iceberg tables are a new table type designed to support the [Apache Iceberg table specification](https://iceberg.apache.org/spec/) to represent a large collection of slowly-changing files on a distributed file system (AWS S3, Azure Blob, Google Cloud Storage) with performance close to that of native Snowflake tables.\n",
    "\n",
    "The architecture of an Apache Iceberg table is defined as three distinct layers:\n",
    "- [Iceberg Catalog](https://iceberg.apache.org/concepts/catalog/#iceberg-catalogs) - Used to manage a collection of tables</li>\n",
    "- [Metadata](https://iceberg.apache.org/spec/#specification) - Used to manage table states in a catalog through a combination of metadata files (JSON), manifest lists (Avro), and manifest files (Avro)\n",
    "- Data - Collection of files that represent the data for all tables in the catalog\n",
    "\n",
    "<div>\n",
    "<img src=\"https://iceberg.apache.org/img/iceberg-metadata.png\" width=\"50%\"/>\n",
    "</div>\n",
    "\n",
    "\n",
    "Snowflake supports Iceberg tables with externally managed catalogs (<strong>unmanaged</strong>) and natively managed catalogs (<strong>managed</strong>).\n",
    "\n",
    "The following catalog types are supported for unmanaged iceberg tables:\n",
    "- [AWS Glue data catalog](https://docs.aws.amazon.com/glue/latest/dg/catalog-and-crawler.html)\n",
    "- Object storage\n",
    "    - Iceberg\n",
    "    - Loose parquet \n",
    "\n",
    "To create an unmanaged Iceberg table, you will need to configure:\n",
    "- [EXTERNAL VOLUME](https://docs.snowflake.com/sql-reference/sql/create-external-volume) - Defines the location(s) for the external catalog, metadata, and data\n",
    "- [CATALOG INTEGRATION](https://docs.snowflake.com/en/sql-reference/sql/create-catalog-integration) - Defines the details of the external catalog"
   ]
  },
  {
   "cell_type": "markdown",
   "id": "4c3027a2-c61e-4fe2-a0af-a5c899737296",
   "metadata": {},
   "source": [
    "### Exercise 1: Create an unmanaged Iceberg table"
   ]
  },
  {
   "cell_type": "markdown",
   "id": "7f14b0f0-2a22-409c-8c1f-fff1d0333f91",
   "metadata": {},
   "source": [
    "#### Step 1: Create an external volume\n",
    "\n",
    "Update the IAM role Trust policy with the AWS User ARN and External ID"
   ]
  },
  {
   "cell_type": "code",
   "execution_count": null,
   "id": "3482be6b-425b-4113-b5fa-d6c3ab0ca029",
   "metadata": {},
   "outputs": [],
   "source": [
    "%%sql\n",
    "use role support_rl;\n",
    "create external volume if not exists {SNOW_USER}_ext_vol\n",
    "    storage_locations = (\n",
    "        (\n",
    "            name = 's3_iceberg_example_unamanaged_us_west_glue'\n",
    "            storage_provider = 's3'\n",
    "            storage_base_url = 's3://kt-s3-us-west-2/'\n",
    "            storage_aws_role_arn = 'arn:aws:iam::094271313368:role/kterada_custom_s3_role'\n",
    "            encryption = (type='aws_sse_s3')\n",
    "        )\n",
    "    )\n",
    ";\n",
    "desc external volume {SNOW_USER}_ext_vol;"
   ]
  },
  {
   "cell_type": "markdown",
   "id": "9db2bb89-0498-4c88-9f8e-d65e9629466e",
   "metadata": {},
   "source": [
    "#### Step 2: Create a catalog integration for each supported type"
   ]
  },
  {
   "cell_type": "markdown",
   "id": "cd2bffcc-d68b-42d0-b82d-18f15e84aff7",
   "metadata": {},
   "source": [
    "##### Step 2.1 Create an OBJECT STORAGE (ICEBERG) catalog integration"
   ]
  },
  {
   "cell_type": "code",
   "execution_count": null,
   "id": "e1c07818-93a6-46b8-9487-6ab55512b0dc",
   "metadata": {},
   "outputs": [],
   "source": [
    "%%sql\n",
    "\n",
    "use role support_rl;\n",
    "\n",
    "create catalog integration if not exists {SNOW_USER}_os_iceberg_cat_int\n",
    "    catalog_source = object_store\n",
    "    table_format = iceberg\n",
    "    enabled = true\n",
    ";\n",
    "desc integration {SNOW_USER}_os_iceberg_cat_int;"
   ]
  },
  {
   "cell_type": "markdown",
   "id": "68dd13df-4231-4aeb-a5c3-305bd55ef3d8",
   "metadata": {},
   "source": [
    "##### Step 2.2 Create an AWS GLUE catalog integration\n",
    "Step 2.3 Update the IAM role Trust policy with the AWS User ARN and External ID"
   ]
  },
  {
   "cell_type": "code",
   "execution_count": null,
   "id": "4a502964-debb-41ab-a2be-e53da9b43043",
   "metadata": {},
   "outputs": [],
   "source": [
    "%%sql\n",
    "\n",
    "use role support_rl;\n",
    "create catalog integration if not exists {SNOW_USER}_glue_cat_int\n",
    "    catalog_source = glue\n",
    "    catalog_namespace = 'kterada_db'\n",
    "    table_format = iceberg\n",
    "    glue_aws_role_arn = 'arn:aws:iam::094271313368:role/kterada_custom_glue_role'\n",
    "    glue_catalog_id = '094271313368'\n",
    "    glue_region = 'us-west-2'\n",
    "    enabled = true\n",
    ";\n",
    "desc integration {SNOW_USER}_glue_cat_int;"
   ]
  },
  {
   "cell_type": "markdown",
   "id": "151af502-f070-409d-b3b2-332f1d9151f5",
   "metadata": {},
   "source": [
    "#### Step 3: Create the unmanaged Iceberg tables"
   ]
  },
  {
   "cell_type": "markdown",
   "id": "af16d1b6-2845-4e22-a9c6-802283d25ae6",
   "metadata": {},
   "source": [
    "##### Step 3.1 Create the schema to store the Iceberg tables"
   ]
  },
  {
   "cell_type": "code",
   "execution_count": null,
   "id": "69846a27-645c-4d09-9326-37d777d65119",
   "metadata": {},
   "outputs": [],
   "source": [
    "%%sql\n",
    "\n",
    "use role support_rl;\n",
    "create warehouse if not exists {SNOW_USER}_wh warehouse_size='xsmall';\n",
    "create database if not exists {SNOW_USER}_iceberg_db;\n",
    "create schema if not exists {SNOW_USER}_iceberg_db.iceberg;"
   ]
  },
  {
   "cell_type": "markdown",
   "id": "049e6b8c-c673-4f28-a7eb-d0f22917d58b",
   "metadata": {},
   "source": [
    "##### Step 3.2 Create Unmanaged Iceberg table with OBJECT STORE (ICEBERG) catalog"
   ]
  },
  {
   "cell_type": "code",
   "execution_count": null,
   "id": "5f91728c-da96-4cce-958d-68039eb02e07",
   "metadata": {},
   "outputs": [],
   "source": [
    "%%sql\n",
    "\n",
    "use role support_rl;\n",
    "create iceberg table if not exists {SNOW_USER}_iceberg_db.iceberg.{SNOW_USER}_unmanaged_os_iceberg_web_sales_t\n",
    "    external_volume = {SNOW_USER}_ext_vol\n",
    "    catalog = {SNOW_USER}_os_iceberg_cat_int\n",
    "    metadata_file_path = 'athena/tcpds_sf10tcl/web_sales/metadata/00000-01c90780-5d6a-48c5-bbd4-4c6c7a88eec5.metadata.json'\n",
    ";"
   ]
  },
  {
   "cell_type": "markdown",
   "id": "d32a2828-8890-4d6f-929a-e82bf484371d",
   "metadata": {},
   "source": [
    "##### Step 3.2 Query the Iceberg table"
   ]
  },
  {
   "cell_type": "code",
   "execution_count": null,
   "id": "791e6fad",
   "metadata": {},
   "outputs": [],
   "source": [
    "%%sql\n",
    "\n",
    "use role support_rl;\n",
    "use warehouse {SNOW_USER}_wh;\n",
    "select\n",
    "    *\n",
    "from {SNOW_USER}_iceberg_db.iceberg.{SNOW_USER}_unmanaged_os_iceberg_web_sales_t\n",
    "where true\n",
    "limit 100\n",
    ";"
   ]
  },
  {
   "cell_type": "markdown",
   "id": "d7f8c7e9-6c6f-4618-a07b-2e133e26533d",
   "metadata": {},
   "source": [
    "##### Step 3.4 Create Unmanaged Iceberg table with GLUE catalog"
   ]
  },
  {
   "cell_type": "code",
   "execution_count": null,
   "id": "3d18af67-4366-47c9-aaa3-a93f61e87b7e",
   "metadata": {},
   "outputs": [],
   "source": [
    "%%sql\n",
    "\n",
    "use role support_rl;\n",
    "create iceberg table if not exists {SNOW_USER}_iceberg_db.iceberg.{SNOW_USER}_unmanaged_glue_iceberg_customer_t\n",
    "    external_volume = {SNOW_USER}_ext_vol\n",
    "    catalog = {SNOW_USER}_glue_cat_int\n",
    "    catalog_namespace = 'kterada_db'\n",
    "    catalog_table_name = 'kt_iceberg_tpcds_sf10tcl_customer'\n",
    ";"
   ]
  },
  {
   "cell_type": "markdown",
   "id": "718bd33a-b9ec-44f6-a7a0-88035f145b2b",
   "metadata": {},
   "source": [
    "##### Step 3.5 Query the Iceberg table"
   ]
  },
  {
   "cell_type": "code",
   "execution_count": null,
   "id": "b4e1569f-9317-45c4-984c-19e7507c2b5e",
   "metadata": {},
   "outputs": [],
   "source": [
    "%%sql\n",
    "\n",
    "use role support_rl;\n",
    "use warehouse {SNOW_USER}_wh;\n",
    "select\n",
    "    *\n",
    "from {SNOW_USER}_iceberg_db.iceberg.{SNOW_USER}_unmanaged_glue_iceberg_customer_t\n",
    "where true\n",
    "limit 100\n",
    ";"
   ]
  },
  {
   "cell_type": "markdown",
   "id": "72457318-b310-4c48-adb3-6eea63ab60b2",
   "metadata": {},
   "source": [
    "#### Step 4: Convert Unmanaged to Managed Iceberg table\n",
    "\n",
    "Step 4.1 Review the current Iceberg table catalog"
   ]
  },
  {
   "cell_type": "code",
   "execution_count": null,
   "id": "2a97aef0-2e8b-4f88-bbe4-2ef0f3fafa71",
   "metadata": {},
   "outputs": [],
   "source": [
    "%%sql\n",
    "\n",
    "use role support_rl;\n",
    "use warehouse {SNOW_USER}_wh;\n",
    "select get_ddl('table','{SNOW_USER}_iceberg_db.iceberg.{SNOW_USER}_unmanaged_os_iceberg_web_sales_t');"
   ]
  },
  {
   "cell_type": "markdown",
   "id": "adbe2fd5-eb37-4afb-be86-e43136f85dd5",
   "metadata": {},
   "source": [
    "##### Step 4.2 Convert the unmanaged Iceberg table to managed"
   ]
  },
  {
   "cell_type": "code",
   "execution_count": null,
   "id": "32c2b6d9-117d-4ddc-b732-775ab03935fe",
   "metadata": {},
   "outputs": [],
   "source": [
    "%%sql\n",
    "\n",
    "alter iceberg table {SNOW_USER}_iceberg_db.iceberg.{SNOW_USER}_unmanaged_os_iceberg_web_sales_t convert to managed base_location='athena/tcpds_sf10tcl/web_sales/';"
   ]
  },
  {
   "cell_type": "markdown",
   "id": "c530fd40-973e-4c0e-97a9-2e3512e58a9a",
   "metadata": {},
   "source": [
    "##### Step 4.3 Validate the conversion to managed"
   ]
  },
  {
   "cell_type": "code",
   "execution_count": null,
   "id": "9ec2eeaf-e186-4c0d-89ef-c2a3aee9953b",
   "metadata": {},
   "outputs": [],
   "source": [
    "%%sql\n",
    "\n",
    "use role support_rl;\n",
    "use warehouse {SNOW_USER}_wh;\n",
    "select get_ddl('table','{SNOW_USER}_iceberg_db.iceberg.{SNOW_USER}_unmanaged_os_iceberg_web_sales_t');"
   ]
  }
 ],
 "metadata": {
  "kernelspec": {
   "display_name": "Python 3 (ipykernel)",
   "language": "python",
   "name": "python3"
  },
  "language_info": {
   "codemirror_mode": {
    "name": "ipython",
    "version": 3
   },
   "file_extension": ".py",
   "mimetype": "text/x-python",
   "name": "python",
   "nbconvert_exporter": "python",
   "pygments_lexer": "ipython3",
   "version": "3.12.0"
  }
 },
 "nbformat": 4,
 "nbformat_minor": 5
}
